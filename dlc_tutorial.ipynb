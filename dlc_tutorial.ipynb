{
 "cells": [
  {
   "cell_type": "markdown",
   "id": "84474bd4",
   "metadata": {},
   "source": [
    "We will start by downloading some sample videos for the workshop.\n",
    "<ul>\n",
    "<li>Visit <a href=\"https://osf.io/g9d76/?view_only=4dee0dec63c74fe8ab4f5b0a48623c43\">this OSF page</a> and click on 'cropped videos'</li>\n",
    "<li>Download this folder as a zip file</li>\n",
    "<li>In your file explorer, extract this zip file and move it to your desired location</li>\n",
    "</ul>"
   ]
  },
  {
   "cell_type": "code",
   "execution_count": null,
   "id": "initial_id",
   "metadata": {
    "collapsed": true
   },
   "outputs": [],
   "source": [
    "import deeplabcut"
   ]
  },
  {
   "cell_type": "markdown",
   "id": "2118a1a8",
   "metadata": {},
   "source": [
    "Make a folder path where you want all the generated data and files to go. This can be the same\n",
    "place where you extracted the videos, or it can be different. This will be referred to as the 'working\n",
    "directory.'"
   ]
  },
  {
   "cell_type": "markdown",
   "id": "f920783c",
   "metadata": {},
   "source": [
    "Below running the next block of code...:\n",
    "<ul>\n",
    "<li> The variables in triple quotes should be edited according to your specific case. </li>\n",
    "<li> Variables should be encased by <em>single</em> quotes; ie '<em>name_of_variable</em>'</li>\n",
    "<li>It is good practice to avoid spaces in folder and file names; underscores preferred.</li>\n",
    "<li>Note: if you would like to add multiple directories, just place a comma after each filepath and add one more, within the squar brackets</li>\n",
    "</ul>\n",
    "\n",
    "To get the filepath of the folder containing your sample videos and the working directory folder, locate each of them in finder. Right click on the folders to open the context menu, then hold down the option key. This should expose additional options in the menu. Click on 'Copy [target folder] as Pathname' to copy the path to your clipboard, then paste it in the appropriate section of the code block below. "
   ]
  },
  {
   "cell_type": "code",
   "execution_count": null,
   "id": "330443e3",
   "metadata": {},
   "outputs": [],
   "source": [
    "deeplabcut.create_new_project('test_name','hannah',['/Users/hannahcha/deep lab cut test files/videos'], working_directory = '/Users/hannahcha/deep lab cut test files/working_dir', copy_videos=\n",
    "True)"
   ]
  },
  {
   "cell_type": "markdown",
   "id": "69d6d057",
   "metadata": {},
   "source": [
    "After running the above code block, you should now notice in finder that your working directory has a new folder with your project name, your own name, and the date. Go into this folder to find additional folders as well as a file titled 'config.yaml'\n",
    "\n",
    "Repeat the procedure described to obtain this file's path, then paste it into the code block below before running it. "
   ]
  },
  {
   "cell_type": "code",
   "execution_count": null,
   "id": "c91a4348",
   "metadata": {},
   "outputs": [],
   "source": [
    "config_path = '/Users/hannahcha/deep lab cut test files/working_dir/test_name-hannah-2024-04-05/config.yaml'"
   ]
  },
  {
   "cell_type": "markdown",
   "id": "70d44450",
   "metadata": {},
   "source": [
    "<em>Note: From this point on commands will reference the config_path variable so you won’t have to\n",
    "type out or copy/paste any more paths and folders.</em>"
   ]
  },
  {
   "cell_type": "markdown",
   "id": "10946c8d",
   "metadata": {},
   "source": [
    "We'll now edit the config.yaml file. Open the file with a text editor. \n",
    "\n",
    "<ul>\n",
    "<li>Under ‘body parts’, list the body parts that you want to label, using the following format:<br>\n",
    "        -head<br>\n",
    "        -tail</li>\n",
    "<li>Under 'skeleton,' list how you want the body parts to connect using the following format: <br>\n",
    "-&nbsp;-head<br>\n",
    "&nbsp;&nbsp;&nbsp;&nbsp;-tail<br>\n",
    "<ul>\n",
    "<li>This means that the head and tail are connected. Note these are not directional</li>\n",
    "</ul>\n",
    "</ul>\n",
    "<li>There is also the number of frames to pick and label. The default is 20, and for the interest of\n",
    "this workshop we will keep it at 20. When using for larger data sets or for more accurate results, set a higher number of\n",
    "frames.</li>\n",
    "\n",
    "Save the changes you've made to this file.\n"
   ]
  },
  {
   "cell_type": "markdown",
   "id": "8517702f",
   "metadata": {},
   "source": [
    "The next code block will prompt you to confirm extraction, simply type 'y' or 'yes' to continue."
   ]
  },
  {
   "cell_type": "code",
   "execution_count": null,
   "id": "62dc3524",
   "metadata": {},
   "outputs": [],
   "source": [
    "deeplabcut.extract_frames(config_path,'automatic','kmeans',crop=False)"
   ]
  },
  {
   "cell_type": "markdown",
   "id": "02f509a9",
   "metadata": {},
   "source": [
    "This next block of code will open the DeepLabCut GUI. In the GUI window, go to the upper left corner and click File > Open Folder.\n",
    "In the file explorer that opens, go to your working directory folder > current project folder > select the folder titled 'labeled-data'"
   ]
  },
  {
   "cell_type": "code",
   "execution_count": null,
   "id": "7aef4d8c",
   "metadata": {},
   "outputs": [],
   "source": [
    "deeplabcut.label_frames(config_path)"
   ]
  },
  {
   "cell_type": "markdown",
   "id": "7520853e",
   "metadata": {},
   "source": [
    "You now want to label each frame with the location of the body parts you specified previously. In the DeepLabCut GUI, go through each frame and mark where each of the body parts are located. \n",
    "\n",
    "<img src=\"deeplapcut_gui_guide.png\">"
   ]
  },
  {
   "cell_type": "markdown",
   "id": "e8a11e73",
   "metadata": {},
   "source": [
    "When you are done, press cmd+s or File > Save to save your changes."
   ]
  },
  {
   "cell_type": "code",
   "execution_count": null,
   "id": "25becf2e",
   "metadata": {},
   "outputs": [],
   "source": [
    "deeplabcut.create_training_dataset(config_path)"
   ]
  },
  {
   "cell_type": "code",
   "execution_count": null,
   "id": "90395dcb",
   "metadata": {},
   "outputs": [],
   "source": [
    "deeplabcut.train_network(config_path, saveiters = 2500, maxiters = 10000, displayiters = 100)"
   ]
  },
  {
   "cell_type": "markdown",
   "id": "80d43ddb",
   "metadata": {},
   "source": []
  }
 ],
 "metadata": {
  "kernelspec": {
   "display_name": "Python 3",
   "language": "python",
   "name": "python3"
  },
  "language_info": {
   "codemirror_mode": {
    "name": "ipython",
    "version": 3
   },
   "file_extension": ".py",
   "mimetype": "text/x-python",
   "name": "python",
   "nbconvert_exporter": "python",
   "pygments_lexer": "ipython3",
   "version": "3.9.19"
  }
 },
 "nbformat": 4,
 "nbformat_minor": 5
}
