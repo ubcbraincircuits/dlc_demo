{
 "cells": [
  {
   "cell_type": "markdown",
   "id": "84474bd4",
   "metadata": {},
   "source": [
    "<b>**This Jupyter Notebook Tutorial is for Apple Silicon Only**</b>\n",
    "\n",
    "The directory titled \"my_files\" is where all of your files for this workshop will go. The \"videos\" folder within this directory is where you will download some sample videos, and the \"working_dir\" is where your project files will go. \n",
    "\n",
    "We will start by downloading some sample videos for the workshop.\n",
    "\n",
    "- Visit (<a href=\"https://osf.io/g9d76/?view_only=4dee0dec63c74fe8ab4f5b0a48623c43\">this OSF page</a>)and click on 'cropped video'\n",
    "- Download this folder as a zip file\n",
    "- In your file explorer, extract this zip file and move it into the \"videos\" folder."
   ]
  },
  {
   "cell_type": "code",
   "execution_count": 1,
   "id": "initial_id",
   "metadata": {
    "collapsed": true
   },
   "outputs": [
    {
     "name": "stdout",
     "output_type": "stream",
     "text": [
      "Loading DLC 2.3.9...\n"
     ]
    }
   ],
   "source": [
    "import deeplabcut\n",
    "from pathlib import Path #package for managing paths\n",
    "import glob #package for finding files "
   ]
  },
  {
   "cell_type": "markdown",
   "id": "f920783c",
   "metadata": {},
   "source": [
    "Before running the next block of code, you can edit the variable names.\n",
    "<ul>\n",
    "<li> Variables should be encased by <em>single</em> quotes; ie '<em>name_of_variable</em>'</li>\n",
    "<li>It is good practice to avoid spaces in folder and file names; underscores preferred.</li>\n",
    "</ul>"
   ]
  },
  {
   "cell_type": "code",
   "execution_count": 2,
   "id": "cf4477aa",
   "metadata": {},
   "outputs": [
    {
     "name": "stdout",
     "output_type": "stream",
     "text": [
      "project_name: deeplabcut_test\n",
      "experimenter_name: my_name\n",
      "video_paths: ['/Users/hannahcha/IdeaProjects/dlc_demo/my_files/videos/00619.avi', '/Users/hannahcha/IdeaProjects/dlc_demo/my_files/videos/00602.avi', '/Users/hannahcha/IdeaProjects/dlc_demo/my_files/videos/00029.avi', '/Users/hannahcha/IdeaProjects/dlc_demo/my_files/videos/00604.avi']\n",
      "working_dir_path: /Users/hannahcha/IdeaProjects/dlc_demo/my_files/working_dir\n"
     ]
    }
   ],
   "source": [
    "#The following variables will be included in the name of a new project folder created in working_dir. Customize them as needed!\n",
    "\n",
    "project_name = 'deeplabcut_test' #project name here\n",
    "\n",
    "working_dir_path = Path(Path.cwd(), \"my_files\", \"working_dir\")\n",
    "\n",
    "experimenter_name = 'my_name' #your name here\n",
    "\n",
    "video_paths = glob.glob(str(Path(Path.cwd(), \"my_files\", \"videos\"))+\"/*.avi\")\n",
    "assert len(video_paths) > 0, \"Move the demo video files into the 'videos' folder\"\n",
    "\n",
    "print(\"project_name:\",project_name)\n",
    "print(\"experimenter_name:\",experimenter_name)\n",
    "print(\"video_paths:\",video_paths)\n",
    "print(\"working_dir_path:\",working_dir_path)"
   ]
  },
  {
   "cell_type": "markdown",
   "id": "0601ce66",
   "metadata": {},
   "source": [
    "Now with our project name and experimenter name confirmed, we can create our new project!"
   ]
  },
  {
   "cell_type": "code",
   "execution_count": 3,
   "id": "330443e3",
   "metadata": {},
   "outputs": [
    {
     "name": "stdout",
     "output_type": "stream",
     "text": [
      "Created \"/Users/hannahcha/IdeaProjects/dlc_demo/my_files/working_dir/deeplabcut_test-my_name-2024-04-09/videos\"\n",
      "Created \"/Users/hannahcha/IdeaProjects/dlc_demo/my_files/working_dir/deeplabcut_test-my_name-2024-04-09/labeled-data\"\n",
      "Created \"/Users/hannahcha/IdeaProjects/dlc_demo/my_files/working_dir/deeplabcut_test-my_name-2024-04-09/training-datasets\"\n",
      "Created \"/Users/hannahcha/IdeaProjects/dlc_demo/my_files/working_dir/deeplabcut_test-my_name-2024-04-09/dlc-models\"\n",
      "Copying the videos\n",
      "/Users/hannahcha/IdeaProjects/dlc_demo/my_files/working_dir/deeplabcut_test-my_name-2024-04-09/videos/00619.avi\n",
      "/Users/hannahcha/IdeaProjects/dlc_demo/my_files/working_dir/deeplabcut_test-my_name-2024-04-09/videos/00602.avi\n",
      "/Users/hannahcha/IdeaProjects/dlc_demo/my_files/working_dir/deeplabcut_test-my_name-2024-04-09/videos/00029.avi\n",
      "/Users/hannahcha/IdeaProjects/dlc_demo/my_files/working_dir/deeplabcut_test-my_name-2024-04-09/videos/00604.avi\n",
      "Generated \"/Users/hannahcha/IdeaProjects/dlc_demo/my_files/working_dir/deeplabcut_test-my_name-2024-04-09/config.yaml\"\n",
      "\n",
      "A new project with name deeplabcut_test-my_name-2024-04-09 is created at /Users/hannahcha/IdeaProjects/dlc_demo/my_files/working_dir and a configurable file (config.yaml) is stored there. Change the parameters in this file to adapt to your project's needs.\n",
      " Once you have changed the configuration file, use the function 'extract_frames' to select frames for labeling.\n",
      ". [OPTIONAL] Use the function 'add_new_videos' to add new videos to your project (at any stage).\n"
     ]
    },
    {
     "data": {
      "text/plain": [
       "'/Users/hannahcha/IdeaProjects/dlc_demo/my_files/working_dir/deeplabcut_test-my_name-2024-04-09/config.yaml'"
      ]
     },
     "execution_count": 3,
     "metadata": {},
     "output_type": "execute_result"
    }
   ],
   "source": [
    "deeplabcut.create_new_project(\n",
    "    project_name,\n",
    "    experimenter_name,\n",
    "    video_paths, \n",
    "    working_directory=working_dir_path,\n",
    "    copy_videos=True)"
   ]
  },
  {
   "cell_type": "markdown",
   "id": "69d6d057",
   "metadata": {},
   "source": [
    "After running the above code block, you should now notice in your file directory that your working directory has a new folder titled with your project name, your own name, and the date."
   ]
  },
  {
   "cell_type": "code",
   "execution_count": 4,
   "id": "c91a4348",
   "metadata": {},
   "outputs": [],
   "source": [
    "from datetime import datetime \n",
    "\n",
    "date_now = datetime.now().strftime(\"%Y-%m-%d\")\n",
    "\n",
    "config_path = Path(Path.cwd(), \"my_files\", \"working_dir\", project_name+\"-\"+experimenter_name+\"-\"+date_now, \"config.yaml\")\n",
    "\n",
    "assert config_path.is_file(), f\"Cannot find the config.yaml file. Please make sure you have run the `deeplabcut.create_new_project` code above has been run and {str(Path(working_dir_path, project_name))} exists.\""
   ]
  },
  {
   "cell_type": "markdown",
   "id": "10946c8d",
   "metadata": {},
   "source": [
    "We'll now edit the config.yaml file, which can be found in the new folder you just created. Open the file within Jupyter Notebook to make your edits.\n",
    "\n",
    "<ul>\n",
    "<li>Under ‘body parts’, list the body parts that you want to label, using the following format:<br>\n",
    "        -head<br>\n",
    "        -tail</li>\n",
    "<li>Under 'skeleton,' list how you want the body parts to connect using the following format: <br>\n",
    "-&nbsp;-head<br>\n",
    "&nbsp;&nbsp;&nbsp;&nbsp;-tail<br>\n",
    "<ul>\n",
    "<li>This means that the head and tail are connected. Note these are not directional</li>\n",
    "</ul>\n",
    "</ul>\n",
    "<li>There is also the number of frames to pick and label. The default is 20, and for the interest of\n",
    "this workshop we will keep it at 20. When using for larger data sets or for more accurate results, set a higher number of\n",
    "frames.</li>\n",
    "\n",
    "Save the changes you've made to this file.\n"
   ]
  },
  {
   "cell_type": "markdown",
   "id": "8517702f",
   "metadata": {},
   "source": [
    "The next code block will prompt you to confirm extraction, simply type 'y' or 'yes' to continue."
   ]
  },
  {
   "cell_type": "code",
   "execution_count": 5,
   "id": "62dc3524",
   "metadata": {},
   "outputs": [
    {
     "name": "stdout",
     "output_type": "stream",
     "text": [
      "Config file read successfully.\n",
      "Do you want to extract (perhaps additional) frames for video: /Users/hannahcha/IdeaProjects/dlc_demo/my_files/working_dir/deeplabcut_test-my_name-2024-04-09/videos/00619.avi ?\n",
      "Extracting frames based on kmeans ...\n",
      "Kmeans-quantization based extracting of frames from 0.0  seconds to 220.23  seconds.\n",
      "Extracting and downsampling... 6607  frames from the video.\n"
     ]
    },
    {
     "name": "stderr",
     "output_type": "stream",
     "text": [
      "6607it [00:41, 159.22it/s]\n"
     ]
    },
    {
     "name": "stdout",
     "output_type": "stream",
     "text": [
      "Kmeans clustering ... (this might take a while)\n",
      "Do you want to extract (perhaps additional) frames for video: /Users/hannahcha/IdeaProjects/dlc_demo/my_files/working_dir/deeplabcut_test-my_name-2024-04-09/videos/00602.avi ?\n",
      "Extracting frames based on kmeans ...\n",
      "Kmeans-quantization based extracting of frames from 0.0  seconds to 219.47  seconds.\n",
      "Extracting and downsampling... 6584  frames from the video.\n"
     ]
    },
    {
     "name": "stderr",
     "output_type": "stream",
     "text": [
      "6584it [00:40, 163.30it/s]\n"
     ]
    },
    {
     "name": "stdout",
     "output_type": "stream",
     "text": [
      "Kmeans clustering ... (this might take a while)\n",
      "Do you want to extract (perhaps additional) frames for video: /Users/hannahcha/IdeaProjects/dlc_demo/my_files/working_dir/deeplabcut_test-my_name-2024-04-09/videos/00029.avi ?\n",
      "Extracting frames based on kmeans ...\n",
      "Kmeans-quantization based extracting of frames from 0.0  seconds to 194.53  seconds.\n",
      "Extracting and downsampling... 5836  frames from the video.\n"
     ]
    },
    {
     "name": "stderr",
     "output_type": "stream",
     "text": [
      "5836it [00:36, 159.69it/s]\n"
     ]
    },
    {
     "name": "stdout",
     "output_type": "stream",
     "text": [
      "Kmeans clustering ... (this might take a while)\n",
      "Do you want to extract (perhaps additional) frames for video: /Users/hannahcha/IdeaProjects/dlc_demo/my_files/working_dir/deeplabcut_test-my_name-2024-04-09/videos/00604.avi ?\n",
      "Extracting frames based on kmeans ...\n",
      "Kmeans-quantization based extracting of frames from 0.0  seconds to 208.87  seconds.\n",
      "Extracting and downsampling... 6266  frames from the video.\n"
     ]
    },
    {
     "name": "stderr",
     "output_type": "stream",
     "text": [
      "6266it [00:42, 146.35it/s]\n"
     ]
    },
    {
     "name": "stdout",
     "output_type": "stream",
     "text": [
      "Kmeans clustering ... (this might take a while)\n",
      "Frames were successfully extracted, for the videos listed in the config.yaml file.\n",
      "\n",
      "You can now label the frames using the function 'label_frames' (Note, you should label frames extracted from diverse videos (and many videos; we do not recommend training on single videos!)).\n"
     ]
    }
   ],
   "source": [
    "deeplabcut.extract_frames(config_path,'automatic','kmeans',crop=False)"
   ]
  },
  {
   "cell_type": "markdown",
   "id": "02f509a9",
   "metadata": {},
   "source": [
    "This next block of code will open the DeepLabCut GUI. In the GUI window, go to the upper left corner and click File > Open Folder.\n",
    "In the file explorer that opens, go to your working directory folder > current project folder > 'labelled data' folder. In this folder you should see a folder for each of the sample videos you downloaded, select one and click 'open.'\n",
    "\n",
    "This will open a new window prompt asking you to choose your reader; select 'napari DeepLabCut' then click 'ok.'\n"
   ]
  },
  {
   "cell_type": "code",
   "execution_count": null,
   "id": "7aef4d8c",
   "metadata": {},
   "outputs": [
    {
     "name": "stderr",
     "output_type": "stream",
     "text": [
      "WARNING: delivering touch release to same window QWindow(0x0) not QWidgetWindow(0x305d07260, name=\"_QtMainWindowClassWindow\")\n",
      "WARNING:vispy:delivering touch release to same window QWindow(0x0) not QWidgetWindow(0x305d07260, name=\"_QtMainWindowClassWindow\")\n",
      "WARNING: skipping QEventPoint(id=1 ts=0 pos=0,0 scn=754.816,443.787 gbl=754.816,443.787 Released ellipse=(1x1 ∡ 0) vel=0,0 press=-754.816,-443.787 last=-754.816,-443.787 Δ 754.816,443.787) : no target window\n",
      "WARNING:vispy:skipping QEventPoint(id=1 ts=0 pos=0,0 scn=754.816,443.787 gbl=754.816,443.787 Released ellipse=(1x1 ∡ 0) vel=0,0 press=-754.816,-443.787 last=-754.816,-443.787 Δ 754.816,443.787) : no target window\n",
      "WARNING: delivering touch release to same window QWindow(0x0) not QWidgetWindow(0x305d07260, name=\"_QtMainWindowClassWindow\")\n",
      "WARNING:vispy:delivering touch release to same window QWindow(0x0) not QWidgetWindow(0x305d07260, name=\"_QtMainWindowClassWindow\")\n",
      "WARNING: skipping QEventPoint(id=1 ts=0 pos=0,0 scn=390.657,231.191 gbl=390.657,231.191 Released ellipse=(1x1 ∡ 0) vel=0,0 press=-390.657,-231.191 last=-390.657,-231.191 Δ 390.657,231.191) : no target window\n",
      "WARNING:vispy:skipping QEventPoint(id=1 ts=0 pos=0,0 scn=390.657,231.191 gbl=390.657,231.191 Released ellipse=(1x1 ∡ 0) vel=0,0 press=-390.657,-231.191 last=-390.657,-231.191 Δ 390.657,231.191) : no target window\n",
      "WARNING: delivering touch release to same window QWindow(0x0) not QWidgetWindow(0x305d07260, name=\"_QtMainWindowClassWindow\")\n",
      "WARNING:vispy:delivering touch release to same window QWindow(0x0) not QWidgetWindow(0x305d07260, name=\"_QtMainWindowClassWindow\")\n",
      "WARNING: skipping QEventPoint(id=1 ts=0 pos=0,0 scn=343.567,292.881 gbl=343.567,292.881 Released ellipse=(1x1 ∡ 0) vel=0,0 press=-343.567,-292.881 last=-343.567,-292.881 Δ 343.567,292.881) : no target window\n",
      "WARNING:vispy:skipping QEventPoint(id=1 ts=0 pos=0,0 scn=343.567,292.881 gbl=343.567,292.881 Released ellipse=(1x1 ∡ 0) vel=0,0 press=-343.567,-292.881 last=-343.567,-292.881 Δ 343.567,292.881) : no target window\n"
     ]
    }
   ],
   "source": [
    "deeplabcut.label_frames(config_path)"
   ]
  },
  {
   "cell_type": "markdown",
   "id": "7520853e",
   "metadata": {},
   "source": [
    "You now want to label each frame with the location of the body parts you specified previously. In the DeepLabCut GUI, go through each frame and mark where each of the body parts are located. \n",
    "\n",
    "<img src=\"deeplapcut_gui_guide.png\">"
   ]
  },
  {
   "cell_type": "markdown",
   "id": "e8a11e73",
   "metadata": {},
   "source": [
    "When you are done, press cmd+s or File > Save to save your changes."
   ]
  },
  {
   "cell_type": "code",
   "execution_count": null,
   "id": "25becf2e",
   "metadata": {},
   "outputs": [],
   "source": [
    "deeplabcut.create_training_dataset(config_path)"
   ]
  },
  {
   "cell_type": "code",
   "execution_count": null,
   "id": "90395dcb",
   "metadata": {},
   "outputs": [],
   "source": [
    "deeplabcut.train_network(config_path, saveiters = 2500, maxiters = 10000, displayiters = 100)"
   ]
  },
  {
   "cell_type": "markdown",
   "id": "80d43ddb",
   "metadata": {},
   "source": []
  }
 ],
 "metadata": {
  "kernelspec": {
   "display_name": "Python [conda env:DEEPLABCUT_M1] *",
   "language": "python",
   "name": "conda-env-DEEPLABCUT_M1-py"
  },
  "language_info": {
   "codemirror_mode": {
    "name": "ipython",
    "version": 3
   },
   "file_extension": ".py",
   "mimetype": "text/x-python",
   "name": "python",
   "nbconvert_exporter": "python",
   "pygments_lexer": "ipython3",
   "version": "3.9.19"
  }
 },
 "nbformat": 4,
 "nbformat_minor": 5
}
