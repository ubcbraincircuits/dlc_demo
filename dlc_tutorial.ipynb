{
 "cells": [
  {
   "cell_type": "markdown",
   "id": "84474bd4",
   "metadata": {},
   "source": [
    "The directory titled \"my_files\" is where all of your files for this workshop will go. The \"videos\" folder within this directory is where you will download some sample videos, and the \"working_dir\" is where your project files will go. \n",
    "\n",
    "We will start by downloading some sample videos for the workshop.\n",
    "\n",
    "- Visit (<a href=\"https://osf.io/g9d76/?view_only=4dee0dec63c74fe8ab4f5b0a48623c43\">this OSF page</a>)and click on 'cropped video'\n",
    "- Download this folder as a zip file\n",
    "- In your file explorer, extract this zip file and move it into the \"videos\" folder."
   ]
  },
  {
   "cell_type": "code",
   "execution_count": 7,
   "id": "initial_id",
   "metadata": {
    "collapsed": true
   },
   "outputs": [],
   "source": [
    "import deeplabcut\n",
    "from pathlib import Path #package for managing paths\n",
    "import glob #package for finding files "
   ]
  },
  {
   "cell_type": "markdown",
   "id": "f920783c",
   "metadata": {},
   "source": [
    "Before running the next block of code, you can edit the variable names.\n",
    "<ul>\n",
    "<li> Variables should be encased by <em>single</em> quotes; ie '<em>name_of_variable</em>'</li>\n",
    "<li>It is good practice to avoid spaces in folder and file names; underscores preferred.</li>\n",
    "</ul>"
   ]
  },
  {
   "cell_type": "code",
   "execution_count": 9,
   "id": "cf4477aa",
   "metadata": {},
   "outputs": [
    {
     "name": "stdout",
     "output_type": "stream",
     "text": [
      "project_name: deeplabcut_test\n",
      "experimenter_name: my_name\n",
      "video_paths: ['/Users/hannahcha/IdeaProjects/dlc_demo/my_files/videos/00604.avi']\n",
      "working_dir_path: /Users/hannahcha/IdeaProjects/dlc_demo/my_files/working_dir\n"
     ]
    }
   ],
   "source": [
    "#The following variables will be included in the name of a new project folder created in working_dir. Customize them as needed!\n",
    "\n",
    "project_name = 'deeplabcut_test' #project name here\n",
    "\n",
    "working_dir_path = Path(Path.cwd(), \"my_files\", \"working_dir\")\n",
    "\n",
    "experimenter_name = 'my_name' #your name here\n",
    "\n",
    "video_paths = glob.glob(str(Path(Path.cwd(), \"my_files\", \"videos\"))+\"/*.avi\")\n",
    "assert len(video_paths) > 0, \"Move the demo video files into the 'videos' folder\"\n",
    "\n",
    "print(\"project_name:\",project_name)\n",
    "print(\"experimenter_name:\",experimenter_name)\n",
    "print(\"video_paths:\",video_paths)\n",
    "print(\"working_dir_path:\",working_dir_path)"
   ]
  },
  {
   "cell_type": "markdown",
   "id": "0601ce66",
   "metadata": {},
   "source": [
    "Now with our project name and experimenter name confirmed, we can create our new project!"
   ]
  },
  {
   "cell_type": "code",
   "execution_count": 10,
   "id": "330443e3",
   "metadata": {},
   "outputs": [
    {
     "name": "stdout",
     "output_type": "stream",
     "text": [
      "Created \"/Users/hannahcha/IdeaProjects/dlc_demo/my_files/working_dir/deeplabcut_test-my_name-2024-04-10/videos\"\n",
      "Created \"/Users/hannahcha/IdeaProjects/dlc_demo/my_files/working_dir/deeplabcut_test-my_name-2024-04-10/labeled-data\"\n",
      "Created \"/Users/hannahcha/IdeaProjects/dlc_demo/my_files/working_dir/deeplabcut_test-my_name-2024-04-10/training-datasets\"\n",
      "Created \"/Users/hannahcha/IdeaProjects/dlc_demo/my_files/working_dir/deeplabcut_test-my_name-2024-04-10/dlc-models\"\n",
      "Copying the videos\n",
      "/Users/hannahcha/IdeaProjects/dlc_demo/my_files/working_dir/deeplabcut_test-my_name-2024-04-10/videos/00604.avi\n",
      "Generated \"/Users/hannahcha/IdeaProjects/dlc_demo/my_files/working_dir/deeplabcut_test-my_name-2024-04-10/config.yaml\"\n",
      "\n",
      "A new project with name deeplabcut_test-my_name-2024-04-10 is created at /Users/hannahcha/IdeaProjects/dlc_demo/my_files/working_dir and a configurable file (config.yaml) is stored there. Change the parameters in this file to adapt to your project's needs.\n",
      " Once you have changed the configuration file, use the function 'extract_frames' to select frames for labeling.\n",
      ". [OPTIONAL] Use the function 'add_new_videos' to add new videos to your project (at any stage).\n"
     ]
    },
    {
     "data": {
      "text/plain": [
       "'/Users/hannahcha/IdeaProjects/dlc_demo/my_files/working_dir/deeplabcut_test-my_name-2024-04-10/config.yaml'"
      ]
     },
     "execution_count": 10,
     "metadata": {},
     "output_type": "execute_result"
    }
   ],
   "source": [
    "deeplabcut.create_new_project(\n",
    "    project_name,\n",
    "    experimenter_name,\n",
    "    video_paths, \n",
    "    working_directory=working_dir_path,\n",
    "    copy_videos=True)"
   ]
  },
  {
   "cell_type": "markdown",
   "id": "69d6d057",
   "metadata": {},
   "source": [
    "After running the above code block, you should now notice in your file directory that your working directory has a new folder titled with your project name, your own name, and the date."
   ]
  },
  {
   "cell_type": "code",
   "execution_count": 11,
   "id": "c91a4348",
   "metadata": {},
   "outputs": [],
   "source": [
    "from datetime import datetime \n",
    "\n",
    "date_now = datetime.now().strftime(\"%Y-%m-%d\")\n",
    "\n",
    "config_path = Path(Path.cwd(), \"my_files\", \"working_dir\", project_name+\"-\"+experimenter_name+\"-\"+date_now, \"config.yaml\")\n",
    "\n",
    "assert config_path.is_file(), f\"Cannot find the config.yaml file. Please make sure you have run the `deeplabcut.create_new_project` code above has been run and {str(Path(working_dir_path, project_name))} exists.\""
   ]
  },
  {
   "cell_type": "markdown",
   "id": "10946c8d",
   "metadata": {},
   "source": [
    "We'll now edit the config.yaml file, which can be found in the new folder you just created. Open the file within Jupyter Notebook to make your edits.\n",
    "\n",
    "<ul>\n",
    "<li>Under ‘body parts’, list the body parts that you want to label, using the following format:<br>\n",
    "        -head<br>\n",
    "        -tail</li>\n",
    "<li>Under 'skeleton,' list how you want the body parts to connect using the following format: <br>\n",
    "-&nbsp;-head<br>\n",
    "&nbsp;&nbsp;&nbsp;&nbsp;-tail<br>\n",
    "<ul>\n",
    "<li>This means that the head and tail are connected. Note these are not directional</li>\n",
    "</ul>\n",
    "</ul>\n",
    "<li>There is also the number of frames to pick and label. The default is 20, and for the interest of\n",
    "this workshop we will keep it at 20. When using for larger data sets or for more accurate results, set a higher number of\n",
    "frames.</li>\n",
    "\n",
    "Save the changes you've made to this file.\n"
   ]
  },
  {
   "cell_type": "markdown",
   "id": "8517702f",
   "metadata": {},
   "source": [
    "The next code block will prompt you to confirm extraction, simply type 'y' or 'yes' to continue."
   ]
  },
  {
   "cell_type": "code",
   "execution_count": 12,
   "id": "62dc3524",
   "metadata": {},
   "outputs": [
    {
     "name": "stdout",
     "output_type": "stream",
     "text": [
      "Config file read successfully.\n",
      "Do you want to extract (perhaps additional) frames for video: /Users/hannahcha/IdeaProjects/dlc_demo/my_files/working_dir/deeplabcut_test-my_name-2024-04-10/videos/00604.avi ?\n"
     ]
    },
    {
     "name": "stdout",
     "output_type": "stream",
     "text": [
      "Extracting frames based on kmeans ...\n",
      "Kmeans-quantization based extracting of frames from 0.0  seconds to 208.87  seconds.\n",
      "Extracting and downsampling... 6266  frames from the video.\n"
     ]
    },
    {
     "name": "stderr",
     "output_type": "stream",
     "text": [
      "6266it [00:42, 148.87it/s]\n"
     ]
    },
    {
     "name": "stdout",
     "output_type": "stream",
     "text": [
      "Kmeans clustering ... (this might take a while)\n",
      "Frames were successfully extracted, for the videos listed in the config.yaml file.\n",
      "\n",
      "You can now label the frames using the function 'label_frames' (Note, you should label frames extracted from diverse videos (and many videos; we do not recommend training on single videos!)).\n"
     ]
    }
   ],
   "source": [
    "deeplabcut.extract_frames(config_path,'automatic','kmeans',crop=False)"
   ]
  },
  {
   "cell_type": "markdown",
   "id": "02f509a9",
   "metadata": {},
   "source": [
    "This next block of code will open the DeepLabCut GUI. In the GUI window, go to the upper left corner and click File > Open Folder.\n",
    "In the file explorer that opens, go to your working directory folder > current project folder > 'labelled data' folder. In this folder you should see a folder for each of the sample videos you downloaded, select one and click 'open.'\n",
    "\n",
    "This will open a new window prompt asking you to choose your reader; select 'napari DeepLabCut' then click 'ok.'\n"
   ]
  },
  {
   "cell_type": "code",
   "execution_count": null,
   "id": "7aef4d8c",
   "metadata": {},
   "outputs": [
    {
     "name": "stderr",
     "output_type": "stream",
     "text": [
      "WARNING: delivering touch release to same window QWindow(0x0) not QWidgetWindow(0x303a46d20, name=\"_QtMainWindowClassWindow\")\n",
      "WARNING:vispy:delivering touch release to same window QWindow(0x0) not QWidgetWindow(0x303a46d20, name=\"_QtMainWindowClassWindow\")\n",
      "WARNING: skipping QEventPoint(id=0 ts=0 pos=0,0 scn=610.539,409.713 gbl=610.539,409.713 Released ellipse=(1x1 ∡ 0) vel=0,0 press=-610.539,-409.713 last=-610.539,-409.713 Δ 610.539,409.713) : no target window\n",
      "WARNING:vispy:skipping QEventPoint(id=0 ts=0 pos=0,0 scn=610.539,409.713 gbl=610.539,409.713 Released ellipse=(1x1 ∡ 0) vel=0,0 press=-610.539,-409.713 last=-610.539,-409.713 Δ 610.539,409.713) : no target window\n",
      "WARNING: skipping QEventPoint(id=1 ts=0 pos=0,0 scn=638.44,365.073 gbl=638.44,365.073 Released ellipse=(1x1 ∡ 0) vel=0,0 press=-638.44,-365.073 last=-638.44,-365.073 Δ 638.44,365.073) : no target window\n",
      "WARNING:vispy:skipping QEventPoint(id=1 ts=0 pos=0,0 scn=638.44,365.073 gbl=638.44,365.073 Released ellipse=(1x1 ∡ 0) vel=0,0 press=-638.44,-365.073 last=-638.44,-365.073 Δ 638.44,365.073) : no target window\n",
      "WARNING: skipping QEventPoint(id=2 ts=0 pos=0,0 scn=623.498,456.694 gbl=623.498,456.694 Released ellipse=(1x1 ∡ 0) vel=0,0 press=-623.498,-456.694 last=-623.498,-456.694 Δ 623.498,456.694) : no target window\n",
      "WARNING:vispy:skipping QEventPoint(id=2 ts=0 pos=0,0 scn=623.498,456.694 gbl=623.498,456.694 Released ellipse=(1x1 ∡ 0) vel=0,0 press=-623.498,-456.694 last=-623.498,-456.694 Δ 623.498,456.694) : no target window\n",
      "WARNING: skipping QEventPoint(id=3 ts=0 pos=0,0 scn=707.021,348.154 gbl=707.021,348.154 Released ellipse=(1x1 ∡ 0) vel=0,0 press=-707.021,-348.154 last=-707.021,-348.154 Δ 707.021,348.154) : no target window\n",
      "WARNING:vispy:skipping QEventPoint(id=3 ts=0 pos=0,0 scn=707.021,348.154 gbl=707.021,348.154 Released ellipse=(1x1 ∡ 0) vel=0,0 press=-707.021,-348.154 last=-707.021,-348.154 Δ 707.021,348.154) : no target window\n",
      "WARNING: skipping QEventPoint(id=4 ts=0 pos=0,0 scn=646.542,445.533 gbl=646.542,445.533 Released ellipse=(1x1 ∡ 0) vel=0,0 press=-646.542,-445.533 last=-646.542,-445.533 Δ 646.542,445.533) : no target window\n",
      "WARNING:vispy:skipping QEventPoint(id=4 ts=0 pos=0,0 scn=646.542,445.533 gbl=646.542,445.533 Released ellipse=(1x1 ∡ 0) vel=0,0 press=-646.542,-445.533 last=-646.542,-445.533 Δ 646.542,445.533) : no target window\n"
     ]
    }
   ],
   "source": [
    "deeplabcut.label_frames(config_path)"
   ]
  },
  {
   "cell_type": "markdown",
   "id": "7520853e",
   "metadata": {},
   "source": [
    "You now want to label each frame with the location of the body parts you specified previously. In the DeepLabCut GUI, go through each frame and mark where each of the body parts are located. \n",
    "\n",
    "<img src=\"deeplapcut_gui_guide.png\">"
   ]
  },
  {
   "cell_type": "markdown",
   "id": "e8a11e73",
   "metadata": {},
   "source": [
    "When you are done, press Cmd+s (Mac), Ctrl+S (Windows/Linux), or File > Save Selected Layer(s) to save your changes."
   ]
  },
  {
   "cell_type": "code",
   "execution_count": 14,
   "id": "25becf2e",
   "metadata": {},
   "outputs": [
    {
     "name": "stdout",
     "output_type": "stream",
     "text": [
      "The training dataset is successfully created. Use the function 'train_network' to start training. Happy training!\n"
     ]
    },
    {
     "data": {
      "text/plain": [
       "[(0.95,\n",
       "  1,\n",
       "  (array([19,  3, 15, 12,  2,  5,  7,  8,  0, 18, 13, 16, 14,  6,  4, 17,  1,\n",
       "          11, 10]),\n",
       "   array([9])))]"
      ]
     },
     "execution_count": 14,
     "metadata": {},
     "output_type": "execute_result"
    }
   ],
   "source": [
    "deeplabcut.create_training_dataset(config_path)"
   ]
  },
  {
   "cell_type": "code",
   "execution_count": 15,
   "id": "90395dcb",
   "metadata": {},
   "outputs": [
    {
     "name": "stderr",
     "output_type": "stream",
     "text": [
      "Config:\n",
      "{'all_joints': [[0], [1]],\n",
      " 'all_joints_names': ['head', 'tail'],\n",
      " 'alpha_r': 0.02,\n",
      " 'apply_prob': 0.5,\n",
      " 'batch_size': 1,\n",
      " 'contrast': {'clahe': True,\n",
      "              'claheratio': 0.1,\n",
      "              'histeq': True,\n",
      "              'histeqratio': 0.1},\n",
      " 'convolution': {'edge': False,\n",
      "                 'emboss': {'alpha': [0.0, 1.0], 'strength': [0.5, 1.5]},\n",
      "                 'embossratio': 0.1,\n",
      "                 'sharpen': False,\n",
      "                 'sharpenratio': 0.3},\n",
      " 'crop_pad': 0,\n",
      " 'cropratio': 0.4,\n",
      " 'dataset': 'training-datasets/iteration-0/UnaugmentedDataSet_deeplabcut_testApr10/deeplabcut_test_my_name95shuffle1.mat',\n",
      " 'dataset_type': 'default',\n",
      " 'decay_steps': 30000,\n",
      " 'deterministic': False,\n",
      " 'display_iters': 1000,\n",
      " 'fg_fraction': 0.25,\n",
      " 'global_scale': 0.8,\n",
      " 'init_weights': '/Users/hannahcha/miniconda/envs/DEEPLABCUT_M1/lib/python3.9/site-packages/deeplabcut/pose_estimation_tensorflow/models/pretrained/resnet_v1_50.ckpt',\n",
      " 'intermediate_supervision': False,\n",
      " 'intermediate_supervision_layer': 12,\n",
      " 'location_refinement': True,\n",
      " 'locref_huber_loss': True,\n",
      " 'locref_loss_weight': 0.05,\n",
      " 'locref_stdev': 7.2801,\n",
      " 'log_dir': 'log',\n",
      " 'lr_init': 0.0005,\n",
      " 'max_input_size': 1500,\n",
      " 'mean_pixel': [123.68, 116.779, 103.939],\n",
      " 'metadataset': 'training-datasets/iteration-0/UnaugmentedDataSet_deeplabcut_testApr10/Documentation_data-deeplabcut_test_95shuffle1.pickle',\n",
      " 'min_input_size': 64,\n",
      " 'mirror': False,\n",
      " 'multi_stage': False,\n",
      " 'multi_step': [[0.005, 10000],\n",
      "                [0.02, 430000],\n",
      "                [0.002, 730000],\n",
      "                [0.001, 1030000]],\n",
      " 'net_type': 'resnet_50',\n",
      " 'num_joints': 2,\n",
      " 'optimizer': 'sgd',\n",
      " 'pairwise_huber_loss': False,\n",
      " 'pairwise_predict': False,\n",
      " 'partaffinityfield_predict': False,\n",
      " 'pos_dist_thresh': 17,\n",
      " 'project_path': '/Users/hannahcha/IdeaProjects/dlc_demo/my_files/working_dir/deeplabcut_test-my_name-2024-04-10',\n",
      " 'regularize': False,\n",
      " 'rotation': 25,\n",
      " 'rotratio': 0.4,\n",
      " 'save_iters': 50000,\n",
      " 'scale_jitter_lo': 0.5,\n",
      " 'scale_jitter_up': 1.25,\n",
      " 'scoremap_dir': 'test',\n",
      " 'shuffle': True,\n",
      " 'snapshot_prefix': '/Users/hannahcha/IdeaProjects/dlc_demo/my_files/working_dir/deeplabcut_test-my_name-2024-04-10/dlc-models/iteration-0/deeplabcut_testApr10-trainset95shuffle1/train/snapshot',\n",
      " 'stride': 8.0,\n",
      " 'weigh_negatives': False,\n",
      " 'weigh_only_present_joints': False,\n",
      " 'weigh_part_predictions': False,\n",
      " 'weight_decay': 0.0001}\n"
     ]
    },
    {
     "name": "stdout",
     "output_type": "stream",
     "text": [
      "Selecting single-animal trainer\n",
      "Batch Size is 1\n"
     ]
    },
    {
     "name": "stderr",
     "output_type": "stream",
     "text": [
      "/Users/hannahcha/miniconda/envs/DEEPLABCUT_M1/lib/python3.9/site-packages/tensorflow/python/keras/engine/base_layer_v1.py:1694: UserWarning: `layer.apply` is deprecated and will be removed in a future version. Please use `layer.__call__` method instead.\n",
      "  warnings.warn('`layer.apply` is deprecated and '\n"
     ]
    },
    {
     "name": "stdout",
     "output_type": "stream",
     "text": [
      "Loading ImageNet-pretrained resnet_50\n"
     ]
    },
    {
     "name": "stderr",
     "output_type": "stream",
     "text": [
      "/Users/hannahcha/miniconda/envs/DEEPLABCUT_M1/lib/python3.9/site-packages/deeplabcut/pose_estimation_tensorflow/core/train.py:228: UserWarning: Switching to Adam, as SGD crashes on Apple Silicon.\n",
      "  warnings.warn(\"Switching to Adam, as SGD crashes on Apple Silicon.\")\n",
      "2024-04-10 10:55:47.437362: W tensorflow/tsl/platform/profile_utils/cpu_utils.cc:128] Failed to get CPU frequency: 0 Hz\n",
      "2024-04-10 10:55:48.360730: W tensorflow/c/c_api.cc:300] Operation '{name:'pose/locref_pred/block4/biases/Adam_1/Assign' id:7170 op device:{requested: '', assigned: ''} def:{{{node pose/locref_pred/block4/biases/Adam_1/Assign}} = AssignVariableOp[_has_manual_control_dependencies=true, dtype=DT_FLOAT, validate_shape=false](pose/locref_pred/block4/biases/Adam_1, pose/locref_pred/block4/biases/Adam_1/Initializer/zeros)}}' was changed by setting attribute after it was run by a session. This mutation will have no effect, and will trigger an error in the future. Either don't modify nodes after running them or create a new session.\n"
     ]
    },
    {
     "name": "stdout",
     "output_type": "stream",
     "text": [
      "Max_iters overwritten as 10000\n",
      "Display_iters overwritten as 100\n",
      "Save_iters overwritten as 2500\n",
      "Training parameter:\n",
      "{'stride': 8.0, 'weigh_part_predictions': False, 'weigh_negatives': False, 'fg_fraction': 0.25, 'mean_pixel': [123.68, 116.779, 103.939], 'shuffle': True, 'snapshot_prefix': '/Users/hannahcha/IdeaProjects/dlc_demo/my_files/working_dir/deeplabcut_test-my_name-2024-04-10/dlc-models/iteration-0/deeplabcut_testApr10-trainset95shuffle1/train/snapshot', 'log_dir': 'log', 'global_scale': 0.8, 'location_refinement': True, 'locref_stdev': 7.2801, 'locref_loss_weight': 0.05, 'locref_huber_loss': True, 'optimizer': 'adam', 'intermediate_supervision': False, 'intermediate_supervision_layer': 12, 'regularize': False, 'weight_decay': 0.0001, 'crop_pad': 0, 'scoremap_dir': 'test', 'batch_size': 1, 'dataset_type': 'default', 'deterministic': False, 'mirror': False, 'pairwise_huber_loss': False, 'weigh_only_present_joints': False, 'partaffinityfield_predict': False, 'pairwise_predict': False, 'all_joints': [[0], [1]], 'all_joints_names': ['head', 'tail'], 'alpha_r': 0.02, 'apply_prob': 0.5, 'contrast': {'clahe': True, 'claheratio': 0.1, 'histeq': True, 'histeqratio': 0.1, 'gamma': False, 'sigmoid': False, 'log': False, 'linear': False}, 'convolution': {'edge': False, 'emboss': {'alpha': [0.0, 1.0], 'strength': [0.5, 1.5]}, 'embossratio': 0.1, 'sharpen': False, 'sharpenratio': 0.3}, 'cropratio': 0.4, 'dataset': 'training-datasets/iteration-0/UnaugmentedDataSet_deeplabcut_testApr10/deeplabcut_test_my_name95shuffle1.mat', 'decay_steps': 30000, 'display_iters': 1000, 'init_weights': '/Users/hannahcha/miniconda/envs/DEEPLABCUT_M1/lib/python3.9/site-packages/deeplabcut/pose_estimation_tensorflow/models/pretrained/resnet_v1_50.ckpt', 'lr_init': 0.0005, 'max_input_size': 1500, 'metadataset': 'training-datasets/iteration-0/UnaugmentedDataSet_deeplabcut_testApr10/Documentation_data-deeplabcut_test_95shuffle1.pickle', 'min_input_size': 64, 'multi_stage': False, 'multi_step': [[0.0001, 7500], [5e-05, 12000], [1e-05, 200000]], 'net_type': 'resnet_50', 'num_joints': 2, 'pos_dist_thresh': 17, 'project_path': '/Users/hannahcha/IdeaProjects/dlc_demo/my_files/working_dir/deeplabcut_test-my_name-2024-04-10', 'rotation': 25, 'rotratio': 0.4, 'save_iters': 50000, 'scale_jitter_lo': 0.5, 'scale_jitter_up': 1.25, 'covering': True, 'elastic_transform': True, 'motion_blur': True, 'motion_blur_params': {'k': 7, 'angle': (-90, 90)}}\n",
      "Starting training....\n"
     ]
    },
    {
     "ename": "KeyboardInterrupt",
     "evalue": "",
     "output_type": "error",
     "traceback": [
      "\u001b[0;31m---------------------------------------------------------------------------\u001b[0m",
      "\u001b[0;31mKeyboardInterrupt\u001b[0m                         Traceback (most recent call last)",
      "Cell \u001b[0;32mIn[15], line 1\u001b[0m\n\u001b[0;32m----> 1\u001b[0m \u001b[43mdeeplabcut\u001b[49m\u001b[38;5;241;43m.\u001b[39;49m\u001b[43mtrain_network\u001b[49m\u001b[43m(\u001b[49m\u001b[43mconfig_path\u001b[49m\u001b[43m,\u001b[49m\u001b[43m \u001b[49m\u001b[43msaveiters\u001b[49m\u001b[43m \u001b[49m\u001b[38;5;241;43m=\u001b[39;49m\u001b[43m \u001b[49m\u001b[38;5;241;43m2500\u001b[39;49m\u001b[43m,\u001b[49m\u001b[43m \u001b[49m\u001b[43mmaxiters\u001b[49m\u001b[43m \u001b[49m\u001b[38;5;241;43m=\u001b[39;49m\u001b[43m \u001b[49m\u001b[38;5;241;43m10000\u001b[39;49m\u001b[43m,\u001b[49m\u001b[43m \u001b[49m\u001b[43mdisplayiters\u001b[49m\u001b[43m \u001b[49m\u001b[38;5;241;43m=\u001b[39;49m\u001b[43m \u001b[49m\u001b[38;5;241;43m100\u001b[39;49m\u001b[43m)\u001b[49m\n",
      "File \u001b[0;32m~/miniconda/envs/DEEPLABCUT_M1/lib/python3.9/site-packages/deeplabcut/pose_estimation_tensorflow/training.py:284\u001b[0m, in \u001b[0;36mtrain_network\u001b[0;34m(config, shuffle, trainingsetindex, max_snapshots_to_keep, displayiters, saveiters, maxiters, allow_growth, gputouse, autotune, keepdeconvweights, modelprefix, superanimal_name, superanimal_transfer_learning)\u001b[0m\n\u001b[1;32m    273\u001b[0m         train(\n\u001b[1;32m    274\u001b[0m             \u001b[38;5;28mstr\u001b[39m(poseconfigfile),\n\u001b[1;32m    275\u001b[0m             displayiters,\n\u001b[0;32m   (...)\u001b[0m\n\u001b[1;32m    280\u001b[0m             allow_growth\u001b[38;5;241m=\u001b[39mallow_growth,\n\u001b[1;32m    281\u001b[0m         )  \u001b[38;5;66;03m# pass on path and file name for pose_cfg.yaml!\u001b[39;00m\n\u001b[1;32m    283\u001b[0m \u001b[38;5;28;01mexcept\u001b[39;00m \u001b[38;5;167;01mBaseException\u001b[39;00m \u001b[38;5;28;01mas\u001b[39;00m e:\n\u001b[0;32m--> 284\u001b[0m     \u001b[38;5;28;01mraise\u001b[39;00m e\n\u001b[1;32m    285\u001b[0m \u001b[38;5;28;01mfinally\u001b[39;00m:\n\u001b[1;32m    286\u001b[0m     os\u001b[38;5;241m.\u001b[39mchdir(\u001b[38;5;28mstr\u001b[39m(start_path))\n",
      "File \u001b[0;32m~/miniconda/envs/DEEPLABCUT_M1/lib/python3.9/site-packages/deeplabcut/pose_estimation_tensorflow/training.py:273\u001b[0m, in \u001b[0;36mtrain_network\u001b[0;34m(config, shuffle, trainingsetindex, max_snapshots_to_keep, displayiters, saveiters, maxiters, allow_growth, gputouse, autotune, keepdeconvweights, modelprefix, superanimal_name, superanimal_transfer_learning)\u001b[0m\n\u001b[1;32m    270\u001b[0m         \u001b[38;5;28;01mfrom\u001b[39;00m \u001b[38;5;21;01mdeeplabcut\u001b[39;00m\u001b[38;5;21;01m.\u001b[39;00m\u001b[38;5;21;01mpose_estimation_tensorflow\u001b[39;00m\u001b[38;5;21;01m.\u001b[39;00m\u001b[38;5;21;01mcore\u001b[39;00m\u001b[38;5;21;01m.\u001b[39;00m\u001b[38;5;21;01mtrain\u001b[39;00m \u001b[38;5;28;01mimport\u001b[39;00m train\n\u001b[1;32m    272\u001b[0m         \u001b[38;5;28mprint\u001b[39m(\u001b[38;5;124m\"\u001b[39m\u001b[38;5;124mSelecting single-animal trainer\u001b[39m\u001b[38;5;124m\"\u001b[39m)\n\u001b[0;32m--> 273\u001b[0m         \u001b[43mtrain\u001b[49m\u001b[43m(\u001b[49m\n\u001b[1;32m    274\u001b[0m \u001b[43m            \u001b[49m\u001b[38;5;28;43mstr\u001b[39;49m\u001b[43m(\u001b[49m\u001b[43mposeconfigfile\u001b[49m\u001b[43m)\u001b[49m\u001b[43m,\u001b[49m\n\u001b[1;32m    275\u001b[0m \u001b[43m            \u001b[49m\u001b[43mdisplayiters\u001b[49m\u001b[43m,\u001b[49m\n\u001b[1;32m    276\u001b[0m \u001b[43m            \u001b[49m\u001b[43msaveiters\u001b[49m\u001b[43m,\u001b[49m\n\u001b[1;32m    277\u001b[0m \u001b[43m            \u001b[49m\u001b[43mmaxiters\u001b[49m\u001b[43m,\u001b[49m\n\u001b[1;32m    278\u001b[0m \u001b[43m            \u001b[49m\u001b[43mmax_to_keep\u001b[49m\u001b[38;5;241;43m=\u001b[39;49m\u001b[43mmax_snapshots_to_keep\u001b[49m\u001b[43m,\u001b[49m\n\u001b[1;32m    279\u001b[0m \u001b[43m            \u001b[49m\u001b[43mkeepdeconvweights\u001b[49m\u001b[38;5;241;43m=\u001b[39;49m\u001b[43mkeepdeconvweights\u001b[49m\u001b[43m,\u001b[49m\n\u001b[1;32m    280\u001b[0m \u001b[43m            \u001b[49m\u001b[43mallow_growth\u001b[49m\u001b[38;5;241;43m=\u001b[39;49m\u001b[43mallow_growth\u001b[49m\u001b[43m,\u001b[49m\n\u001b[1;32m    281\u001b[0m \u001b[43m        \u001b[49m\u001b[43m)\u001b[49m  \u001b[38;5;66;03m# pass on path and file name for pose_cfg.yaml!\u001b[39;00m\n\u001b[1;32m    283\u001b[0m \u001b[38;5;28;01mexcept\u001b[39;00m \u001b[38;5;167;01mBaseException\u001b[39;00m \u001b[38;5;28;01mas\u001b[39;00m e:\n\u001b[1;32m    284\u001b[0m     \u001b[38;5;28;01mraise\u001b[39;00m e\n",
      "File \u001b[0;32m~/miniconda/envs/DEEPLABCUT_M1/lib/python3.9/site-packages/deeplabcut/pose_estimation_tensorflow/core/train.py:287\u001b[0m, in \u001b[0;36mtrain\u001b[0;34m(config_yaml, displayiters, saveiters, maxiters, max_to_keep, keepdeconvweights, allow_growth)\u001b[0m\n\u001b[1;32m    284\u001b[0m     current_lr \u001b[38;5;241m=\u001b[39m lr_gen\u001b[38;5;241m.\u001b[39mget_lr(it \u001b[38;5;241m-\u001b[39m start_iter)\n\u001b[1;32m    285\u001b[0m     lr_dict \u001b[38;5;241m=\u001b[39m {learning_rate: current_lr}\n\u001b[0;32m--> 287\u001b[0m [_, loss_val, summary] \u001b[38;5;241m=\u001b[39m \u001b[43msess\u001b[49m\u001b[38;5;241;43m.\u001b[39;49m\u001b[43mrun\u001b[49m\u001b[43m(\u001b[49m\n\u001b[1;32m    288\u001b[0m \u001b[43m    \u001b[49m\u001b[43m[\u001b[49m\u001b[43mtrain_op\u001b[49m\u001b[43m,\u001b[49m\u001b[43m \u001b[49m\u001b[43mtotal_loss\u001b[49m\u001b[43m,\u001b[49m\u001b[43m \u001b[49m\u001b[43mmerged_summaries\u001b[49m\u001b[43m]\u001b[49m\u001b[43m,\u001b[49m\u001b[43m \u001b[49m\u001b[43mfeed_dict\u001b[49m\u001b[38;5;241;43m=\u001b[39;49m\u001b[43mlr_dict\u001b[49m\n\u001b[1;32m    289\u001b[0m \u001b[43m\u001b[49m\u001b[43m)\u001b[49m\n\u001b[1;32m    290\u001b[0m cum_loss \u001b[38;5;241m+\u001b[39m\u001b[38;5;241m=\u001b[39m loss_val\n\u001b[1;32m    291\u001b[0m train_writer\u001b[38;5;241m.\u001b[39madd_summary(summary, it)\n",
      "File \u001b[0;32m~/miniconda/envs/DEEPLABCUT_M1/lib/python3.9/site-packages/tensorflow/python/client/session.py:968\u001b[0m, in \u001b[0;36mBaseSession.run\u001b[0;34m(self, fetches, feed_dict, options, run_metadata)\u001b[0m\n\u001b[1;32m    965\u001b[0m run_metadata_ptr \u001b[38;5;241m=\u001b[39m tf_session\u001b[38;5;241m.\u001b[39mTF_NewBuffer() \u001b[38;5;28;01mif\u001b[39;00m run_metadata \u001b[38;5;28;01melse\u001b[39;00m \u001b[38;5;28;01mNone\u001b[39;00m\n\u001b[1;32m    967\u001b[0m \u001b[38;5;28;01mtry\u001b[39;00m:\n\u001b[0;32m--> 968\u001b[0m   result \u001b[38;5;241m=\u001b[39m \u001b[38;5;28;43mself\u001b[39;49m\u001b[38;5;241;43m.\u001b[39;49m\u001b[43m_run\u001b[49m\u001b[43m(\u001b[49m\u001b[38;5;28;43;01mNone\u001b[39;49;00m\u001b[43m,\u001b[49m\u001b[43m \u001b[49m\u001b[43mfetches\u001b[49m\u001b[43m,\u001b[49m\u001b[43m \u001b[49m\u001b[43mfeed_dict\u001b[49m\u001b[43m,\u001b[49m\u001b[43m \u001b[49m\u001b[43moptions_ptr\u001b[49m\u001b[43m,\u001b[49m\n\u001b[1;32m    969\u001b[0m \u001b[43m                     \u001b[49m\u001b[43mrun_metadata_ptr\u001b[49m\u001b[43m)\u001b[49m\n\u001b[1;32m    970\u001b[0m   \u001b[38;5;28;01mif\u001b[39;00m run_metadata:\n\u001b[1;32m    971\u001b[0m     proto_data \u001b[38;5;241m=\u001b[39m tf_session\u001b[38;5;241m.\u001b[39mTF_GetBuffer(run_metadata_ptr)\n",
      "File \u001b[0;32m~/miniconda/envs/DEEPLABCUT_M1/lib/python3.9/site-packages/tensorflow/python/client/session.py:1191\u001b[0m, in \u001b[0;36mBaseSession._run\u001b[0;34m(self, handle, fetches, feed_dict, options, run_metadata)\u001b[0m\n\u001b[1;32m   1188\u001b[0m \u001b[38;5;66;03m# We only want to really perform the run if fetches or targets are provided,\u001b[39;00m\n\u001b[1;32m   1189\u001b[0m \u001b[38;5;66;03m# or if the call is a partial run that specifies feeds.\u001b[39;00m\n\u001b[1;32m   1190\u001b[0m \u001b[38;5;28;01mif\u001b[39;00m final_fetches \u001b[38;5;129;01mor\u001b[39;00m final_targets \u001b[38;5;129;01mor\u001b[39;00m (handle \u001b[38;5;129;01mand\u001b[39;00m feed_dict_tensor):\n\u001b[0;32m-> 1191\u001b[0m   results \u001b[38;5;241m=\u001b[39m \u001b[38;5;28;43mself\u001b[39;49m\u001b[38;5;241;43m.\u001b[39;49m\u001b[43m_do_run\u001b[49m\u001b[43m(\u001b[49m\u001b[43mhandle\u001b[49m\u001b[43m,\u001b[49m\u001b[43m \u001b[49m\u001b[43mfinal_targets\u001b[49m\u001b[43m,\u001b[49m\u001b[43m \u001b[49m\u001b[43mfinal_fetches\u001b[49m\u001b[43m,\u001b[49m\n\u001b[1;32m   1192\u001b[0m \u001b[43m                         \u001b[49m\u001b[43mfeed_dict_tensor\u001b[49m\u001b[43m,\u001b[49m\u001b[43m \u001b[49m\u001b[43moptions\u001b[49m\u001b[43m,\u001b[49m\u001b[43m \u001b[49m\u001b[43mrun_metadata\u001b[49m\u001b[43m)\u001b[49m\n\u001b[1;32m   1193\u001b[0m \u001b[38;5;28;01melse\u001b[39;00m:\n\u001b[1;32m   1194\u001b[0m   results \u001b[38;5;241m=\u001b[39m []\n",
      "File \u001b[0;32m~/miniconda/envs/DEEPLABCUT_M1/lib/python3.9/site-packages/tensorflow/python/client/session.py:1371\u001b[0m, in \u001b[0;36mBaseSession._do_run\u001b[0;34m(self, handle, target_list, fetch_list, feed_dict, options, run_metadata)\u001b[0m\n\u001b[1;32m   1368\u001b[0m   \u001b[38;5;28;01mreturn\u001b[39;00m \u001b[38;5;28mself\u001b[39m\u001b[38;5;241m.\u001b[39m_call_tf_sessionprun(handle, feed_dict, fetch_list)\n\u001b[1;32m   1370\u001b[0m \u001b[38;5;28;01mif\u001b[39;00m handle \u001b[38;5;129;01mis\u001b[39;00m \u001b[38;5;28;01mNone\u001b[39;00m:\n\u001b[0;32m-> 1371\u001b[0m   \u001b[38;5;28;01mreturn\u001b[39;00m \u001b[38;5;28;43mself\u001b[39;49m\u001b[38;5;241;43m.\u001b[39;49m\u001b[43m_do_call\u001b[49m\u001b[43m(\u001b[49m\u001b[43m_run_fn\u001b[49m\u001b[43m,\u001b[49m\u001b[43m \u001b[49m\u001b[43mfeeds\u001b[49m\u001b[43m,\u001b[49m\u001b[43m \u001b[49m\u001b[43mfetches\u001b[49m\u001b[43m,\u001b[49m\u001b[43m \u001b[49m\u001b[43mtargets\u001b[49m\u001b[43m,\u001b[49m\u001b[43m \u001b[49m\u001b[43moptions\u001b[49m\u001b[43m,\u001b[49m\n\u001b[1;32m   1372\u001b[0m \u001b[43m                       \u001b[49m\u001b[43mrun_metadata\u001b[49m\u001b[43m)\u001b[49m\n\u001b[1;32m   1373\u001b[0m \u001b[38;5;28;01melse\u001b[39;00m:\n\u001b[1;32m   1374\u001b[0m   \u001b[38;5;28;01mreturn\u001b[39;00m \u001b[38;5;28mself\u001b[39m\u001b[38;5;241m.\u001b[39m_do_call(_prun_fn, handle, feeds, fetches)\n",
      "File \u001b[0;32m~/miniconda/envs/DEEPLABCUT_M1/lib/python3.9/site-packages/tensorflow/python/client/session.py:1378\u001b[0m, in \u001b[0;36mBaseSession._do_call\u001b[0;34m(self, fn, *args)\u001b[0m\n\u001b[1;32m   1376\u001b[0m \u001b[38;5;28;01mdef\u001b[39;00m \u001b[38;5;21m_do_call\u001b[39m(\u001b[38;5;28mself\u001b[39m, fn, \u001b[38;5;241m*\u001b[39margs):\n\u001b[1;32m   1377\u001b[0m   \u001b[38;5;28;01mtry\u001b[39;00m:\n\u001b[0;32m-> 1378\u001b[0m     \u001b[38;5;28;01mreturn\u001b[39;00m \u001b[43mfn\u001b[49m\u001b[43m(\u001b[49m\u001b[38;5;241;43m*\u001b[39;49m\u001b[43margs\u001b[49m\u001b[43m)\u001b[49m\n\u001b[1;32m   1379\u001b[0m   \u001b[38;5;28;01mexcept\u001b[39;00m errors\u001b[38;5;241m.\u001b[39mOpError \u001b[38;5;28;01mas\u001b[39;00m e:\n\u001b[1;32m   1380\u001b[0m     message \u001b[38;5;241m=\u001b[39m compat\u001b[38;5;241m.\u001b[39mas_text(e\u001b[38;5;241m.\u001b[39mmessage)\n",
      "File \u001b[0;32m~/miniconda/envs/DEEPLABCUT_M1/lib/python3.9/site-packages/tensorflow/python/client/session.py:1361\u001b[0m, in \u001b[0;36mBaseSession._do_run.<locals>._run_fn\u001b[0;34m(feed_dict, fetch_list, target_list, options, run_metadata)\u001b[0m\n\u001b[1;32m   1358\u001b[0m \u001b[38;5;28;01mdef\u001b[39;00m \u001b[38;5;21m_run_fn\u001b[39m(feed_dict, fetch_list, target_list, options, run_metadata):\n\u001b[1;32m   1359\u001b[0m   \u001b[38;5;66;03m# Ensure any changes to the graph are reflected in the runtime.\u001b[39;00m\n\u001b[1;32m   1360\u001b[0m   \u001b[38;5;28mself\u001b[39m\u001b[38;5;241m.\u001b[39m_extend_graph()\n\u001b[0;32m-> 1361\u001b[0m   \u001b[38;5;28;01mreturn\u001b[39;00m \u001b[38;5;28;43mself\u001b[39;49m\u001b[38;5;241;43m.\u001b[39;49m\u001b[43m_call_tf_sessionrun\u001b[49m\u001b[43m(\u001b[49m\u001b[43moptions\u001b[49m\u001b[43m,\u001b[49m\u001b[43m \u001b[49m\u001b[43mfeed_dict\u001b[49m\u001b[43m,\u001b[49m\u001b[43m \u001b[49m\u001b[43mfetch_list\u001b[49m\u001b[43m,\u001b[49m\n\u001b[1;32m   1362\u001b[0m \u001b[43m                                  \u001b[49m\u001b[43mtarget_list\u001b[49m\u001b[43m,\u001b[49m\u001b[43m \u001b[49m\u001b[43mrun_metadata\u001b[49m\u001b[43m)\u001b[49m\n",
      "File \u001b[0;32m~/miniconda/envs/DEEPLABCUT_M1/lib/python3.9/site-packages/tensorflow/python/client/session.py:1454\u001b[0m, in \u001b[0;36mBaseSession._call_tf_sessionrun\u001b[0;34m(self, options, feed_dict, fetch_list, target_list, run_metadata)\u001b[0m\n\u001b[1;32m   1452\u001b[0m \u001b[38;5;28;01mdef\u001b[39;00m \u001b[38;5;21m_call_tf_sessionrun\u001b[39m(\u001b[38;5;28mself\u001b[39m, options, feed_dict, fetch_list, target_list,\n\u001b[1;32m   1453\u001b[0m                         run_metadata):\n\u001b[0;32m-> 1454\u001b[0m   \u001b[38;5;28;01mreturn\u001b[39;00m \u001b[43mtf_session\u001b[49m\u001b[38;5;241;43m.\u001b[39;49m\u001b[43mTF_SessionRun_wrapper\u001b[49m\u001b[43m(\u001b[49m\u001b[38;5;28;43mself\u001b[39;49m\u001b[38;5;241;43m.\u001b[39;49m\u001b[43m_session\u001b[49m\u001b[43m,\u001b[49m\u001b[43m \u001b[49m\u001b[43moptions\u001b[49m\u001b[43m,\u001b[49m\u001b[43m \u001b[49m\u001b[43mfeed_dict\u001b[49m\u001b[43m,\u001b[49m\n\u001b[1;32m   1455\u001b[0m \u001b[43m                                          \u001b[49m\u001b[43mfetch_list\u001b[49m\u001b[43m,\u001b[49m\u001b[43m \u001b[49m\u001b[43mtarget_list\u001b[49m\u001b[43m,\u001b[49m\n\u001b[1;32m   1456\u001b[0m \u001b[43m                                          \u001b[49m\u001b[43mrun_metadata\u001b[49m\u001b[43m)\u001b[49m\n",
      "\u001b[0;31mKeyboardInterrupt\u001b[0m: "
     ]
    }
   ],
   "source": [
    "deeplabcut.train_network(config_path, saveiters = 2500, maxiters = 10000, displayiters = 100)"
   ]
  },
  {
   "cell_type": "markdown",
   "id": "80d43ddb",
   "metadata": {},
   "source": []
  }
 ],
 "metadata": {
  "kernelspec": {
   "display_name": "Python [conda env:DEEPLABCUT_M1] *",
   "language": "python",
   "name": "conda-env-DEEPLABCUT_M1-py"
  },
  "language_info": {
   "codemirror_mode": {
    "name": "ipython",
    "version": 3
   },
   "file_extension": ".py",
   "mimetype": "text/x-python",
   "name": "python",
   "nbconvert_exporter": "python",
   "pygments_lexer": "ipython3",
   "version": "3.9.19"
  }
 },
 "nbformat": 4,
 "nbformat_minor": 5
}
