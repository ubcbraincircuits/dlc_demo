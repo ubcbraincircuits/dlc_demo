{
 "cells": [
  {
   "cell_type": "markdown",
   "metadata": {},
   "source": [
    "<b>This jupyter notebook is a continuation of the other notebook titled 'dlc-tutorial_part-1.ipynb'.</b> If you have not already, please complete the steps outlined in that notebook before proceeding with part 2.\n",
    "\n",
    "In 'dlc-tutorial_part-1.ipynb', you have learned how to set up  labelled data for the model to use to train. In the interest of time, we are providing a better model which has already been trained over many more frames and total iterations to complete the final steps of our workshop. "
   ]
  },
  {
   "cell_type": "code",
   "execution_count": null,
   "metadata": {},
   "outputs": [],
   "source": [
    "import deeplabcut\n",
    "from pathlib import Path #package for managing paths\n",
    "import glob #package for finding files "
   ]
  },
  {
   "cell_type": "markdown",
   "metadata": {},
   "source": [
    "Go to <a href=\"https://osf.io/4ne5w\">this OSF page</a> and download \"dlc_trained_model.zip\". In your file explorer, locate the download and unzip, then move the folder into \n",
    "\n",
    "dlc_demo > my_files > working_dir"
   ]
  },
  {
   "cell_type": "markdown",
   "metadata": {},
   "source": [
    "We will set our 'config_path' variable now to point to the trained model with the code block below:"
   ]
  },
  {
   "cell_type": "code",
   "execution_count": null,
   "metadata": {},
   "outputs": [],
   "source": [
    "config_path = Path(Path.cwd(), \"my_files\", \"working_dir\", \"dlc_trained_model\", \"config_trained-model.yaml\")"
   ]
  },
  {
   "cell_type": "markdown",
   "metadata": {},
   "source": [
    "The next code block is run to evaluate the accuracy pixels. About 1 pixel is good for an accurate project. "
   ]
  },
  {
   "cell_type": "code",
   "execution_count": null,
   "metadata": {},
   "outputs": [],
   "source": [
    "deeplabcut.evaluate_network(config_path) "
   ]
  },
  {
   "cell_type": "markdown",
   "metadata": {},
   "source": [
    "We now want to use the trained model to analyze the videos we downloaded. The 'video_path' variable is set to point to the folder where our downloaded videos are, then we run the analysis. This step will take a couple minutes.\n",
    "\n",
    "'save_as_csv' set to 'True' will create a csv file which includes XY coordinates of the labelled points in each frame in the video, as well as the model's confidence in their locations.\n",
    "\n",
    ">If DLC reports the video has already been analyzed, you can delete any output that might already be existing in the folder labeled \"evaluation-results\" to re-do.\n",
    "\n",
    "This code block will take ~30 minutes to complete. In the meantime, to view the final product, head back to the <a href=\"\">OSF page</a> and view the contents of the folder titled 'final_results'. "
   ]
  },
  {
   "cell_type": "code",
   "execution_count": null,
   "metadata": {},
   "outputs": [],
   "source": [
    "video_path = glob.glob(str(Path(Path.cwd(), \"my_files\", \"videos\"))+\"/*.avi\") #path of original videos\n",
    "\n",
    "deeplabcut.analyze_videos(config_path, video_path, save_as_csv = True)"
   ]
  },
  {
   "cell_type": "markdown",
   "metadata": {},
   "source": [
    "This next step will place the labelled video and its associated csv in the 'videos' folder."
   ]
  },
  {
   "cell_type": "code",
   "execution_count": null,
   "metadata": {},
   "outputs": [],
   "source": [
    "deeplabcut.create_labeled_video(config_path, video_path)"
   ]
  }
 ],
 "metadata": {
  "kernelspec": {
   "display_name": "Python 3 (ipykernel)",
   "language": "python",
   "name": "python3"
  },
  "language_info": {
   "codemirror_mode": {
    "name": "ipython",
    "version": 3
   },
   "file_extension": ".py",
   "mimetype": "text/x-python",
   "name": "python",
   "nbconvert_exporter": "python",
   "pygments_lexer": "ipython3",
   "version": "3.9.19"
  }
 },
 "nbformat": 4,
 "nbformat_minor": 2
}
