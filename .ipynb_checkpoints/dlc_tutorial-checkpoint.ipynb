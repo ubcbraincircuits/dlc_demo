{
 "cells": [
  {
   "cell_type": "markdown",
   "id": "84474bd4",
   "metadata": {},
   "source": [
    "The directory titled \"my_files\" is where all of your files for this workshop will go. The \"videos\" folder within this directory is where you will download some sample videos, and the \"working_dir\" is where your project files will go. \n",
    "\n",
    "We will start by downloading some sample videos for the workshop.\n",
    "\n",
    "- Visit (<a href=\"https://osf.io/g9d76/?view_only=4dee0dec63c74fe8ab4f5b0a48623c43\">this OSF page</a>)and click on 'cropped videos'\n",
    "- Download this folder as a zip file\n",
    "- In your file explorer, extract this zip file and move it into the \"videos\" folder."
   ]
  },
  {
   "cell_type": "code",
   "execution_count": 4,
   "id": "initial_id",
   "metadata": {
    "collapsed": true
   },
   "outputs": [],
   "source": [
    "import deeplabcut\n",
    "from pathlib import Path #package for managing paths\n",
    "import glob #package for finding files"
   ]
  },
  {
   "cell_type": "markdown",
   "id": "f920783c",
   "metadata": {},
   "source": [
    "Below running the next block of code...:\n",
    "<ul>\n",
    "<li> The variables in triple quotes should be edited according to your specific case. </li>\n",
    "<li> Variables should be encased by <em>single</em> quotes; ie '<em>name_of_variable</em>'</li>\n",
    "<li>It is good practice to avoid spaces in folder and file names; underscores preferred.</li>\n",
    "<li>Note: if you would like to add multiple directories, just place a comma after each filepath and add one more, within the squar brackets</li>\n",
    "</ul>\n",
    "\n",
    "To get the filepath of the folder containing your sample videos and the working directory folder, locate each of them in finder. Right click on the folders to open the context menu, then hold down the option key. This should expose additional options in the menu. Click on 'Copy [target folder] as Pathname' to copy the path to your clipboard, then paste it in the appropriate section of the code block below. "
   ]
  },
  {
   "cell_type": "code",
   "execution_count": 7,
   "id": "cf4477aa",
   "metadata": {},
   "outputs": [
    {
     "ename": "AssertionError",
     "evalue": "Move the demo video files into the 'videos' folder",
     "output_type": "error",
     "traceback": [
      "\u001b[0;31m---------------------------------------------------------------------------\u001b[0m",
      "\u001b[0;31mAssertionError\u001b[0m                            Traceback (most recent call last)",
      "Cell \u001b[0;32mIn[7], line 10\u001b[0m\n\u001b[1;32m      7\u001b[0m experimenter_name \u001b[38;5;241m=\u001b[39m \u001b[38;5;124m'\u001b[39m\u001b[38;5;124mmy_name\u001b[39m\u001b[38;5;124m'\u001b[39m \u001b[38;5;66;03m#your name here\u001b[39;00m\n\u001b[1;32m      9\u001b[0m video_paths \u001b[38;5;241m=\u001b[39m glob\u001b[38;5;241m.\u001b[39mglob(\u001b[38;5;28mstr\u001b[39m(Path(working_dir_path, \u001b[38;5;124m\"\u001b[39m\u001b[38;5;124mvideos\u001b[39m\u001b[38;5;124m\"\u001b[39m))\u001b[38;5;241m+\u001b[39m\u001b[38;5;124m\"\u001b[39m\u001b[38;5;124m*.avi\u001b[39m\u001b[38;5;124m\"\u001b[39m)\n\u001b[0;32m---> 10\u001b[0m \u001b[38;5;28;01massert\u001b[39;00m \u001b[38;5;28mlen\u001b[39m(video_paths) \u001b[38;5;241m>\u001b[39m \u001b[38;5;241m0\u001b[39m, \u001b[38;5;124m\"\u001b[39m\u001b[38;5;124mMove the demo video files into the \u001b[39m\u001b[38;5;124m'\u001b[39m\u001b[38;5;124mvideos\u001b[39m\u001b[38;5;124m'\u001b[39m\u001b[38;5;124m folder\u001b[39m\u001b[38;5;124m\"\u001b[39m\n\u001b[1;32m     12\u001b[0m \u001b[38;5;28mprint\u001b[39m(\u001b[38;5;124m\"\u001b[39m\u001b[38;5;124mproject_name:\u001b[39m\u001b[38;5;124m\"\u001b[39m,project_name)\n\u001b[1;32m     13\u001b[0m \u001b[38;5;28mprint\u001b[39m(\u001b[38;5;124m\"\u001b[39m\u001b[38;5;124mexperimenter_name:\u001b[39m\u001b[38;5;124m\"\u001b[39m,experimenter_name)\n",
      "\u001b[0;31mAssertionError\u001b[0m: Move the demo video files into the 'videos' folder"
     ]
    }
   ],
   "source": [
    "#The following variables will included in the name of a new project folder created in working_dir. Customize them as needed!\n",
    "\n",
    "project_name = 'test_name' #project name here\n",
    "\n",
    "working_dir_path = Path(Path.cwd(), \"my_files\", \"working_dir\")\n",
    "\n",
    "experimenter_name = 'my_name' #your name here\n",
    "\n",
    "video_paths = glob.glob(str(Path(working_dir_path, \"videos\"))+\"*.avi\")\n",
    "assert len(video_paths) > 0, \"Move the demo video files into the 'videos' folder\"\n",
    "\n",
    "print(\"project_name:\",project_name)\n",
    "print(\"experimenter_name:\",experimenter_name)\n",
    "print(\"video_paths:\",video_paths)\n",
    "print(\"working_dir_path:\",working_dir_path)"
   ]
  },
  {
   "cell_type": "code",
   "execution_count": null,
   "id": "330443e3",
   "metadata": {},
   "outputs": [],
   "source": [
    "deeplabcut.create_new_project(\n",
    "    project_name,\n",
    "    experimenter_name,\n",
    "    video_paths, \n",
    "    working_directory=working_dir_path,\n",
    "    copy_videos=True)"
   ]
  },
  {
   "cell_type": "markdown",
   "id": "69d6d057",
   "metadata": {},
   "source": [
    "After running the above code block, you should now notice in finder that your working directory has a new folder with your project name, your own name, and the date. Go into this folder to find additional folders as well as a file titled 'config.yaml'\n",
    "\n",
    "Repeat the procedure described to obtain this file's path, then paste it into the code block below before running it. "
   ]
  },
  {
   "cell_type": "code",
   "execution_count": null,
   "id": "c91a4348",
   "metadata": {},
   "outputs": [],
   "source": [
    "config_path = Path(working_dir_path, project_name, \"config.yaml\")\n",
    "\n",
    "assert config_path.is_file(), f\"Cannot find the config.yaml file. Please make sure you have run the `deeplabcut.create_new_project` code above has been run and {str(Path(working_dir_path, project_name))} exists.\""
   ]
  },
  {
   "cell_type": "markdown",
   "id": "70d44450",
   "metadata": {},
   "source": [
    "<em>Note: From this point on commands will reference the config_path variable so you won’t have to\n",
    "type out or copy/paste any more paths and folders.</em>"
   ]
  },
  {
   "cell_type": "markdown",
   "id": "10946c8d",
   "metadata": {},
   "source": [
    "We'll now edit the config.yaml file. Open the file with a text editor. \n",
    "\n",
    "<ul>\n",
    "<li>Under ‘body parts’, list the body parts that you want to label, using the following format:<br>\n",
    "        -head<br>\n",
    "        -tail</li>\n",
    "<li>Under 'skeleton,' list how you want the body parts to connect using the following format: <br>\n",
    "-&nbsp;-head<br>\n",
    "&nbsp;&nbsp;&nbsp;&nbsp;-tail<br>\n",
    "<ul>\n",
    "<li>This means that the head and tail are connected. Note these are not directional</li>\n",
    "</ul>\n",
    "</ul>\n",
    "<li>There is also the number of frames to pick and label. The default is 20, and for the interest of\n",
    "this workshop we will keep it at 20. When using for larger data sets or for more accurate results, set a higher number of\n",
    "frames.</li>\n",
    "\n",
    "Save the changes you've made to this file.\n"
   ]
  },
  {
   "cell_type": "markdown",
   "id": "8517702f",
   "metadata": {},
   "source": [
    "The next code block will prompt you to confirm extraction, simply type 'y' or 'yes' to continue."
   ]
  },
  {
   "cell_type": "code",
   "execution_count": null,
   "id": "62dc3524",
   "metadata": {},
   "outputs": [],
   "source": [
    "deeplabcut.extract_frames(config_path,'automatic','kmeans',crop=False)"
   ]
  },
  {
   "cell_type": "markdown",
   "id": "02f509a9",
   "metadata": {},
   "source": [
    "This next block of code will open the DeepLabCut GUI. In the GUI window, go to the upper left corner and click File > Open Folder.\n",
    "In the file explorer that opens, go to your working directory folder > current project folder > select the folder titled 'labeled-data'"
   ]
  },
  {
   "cell_type": "code",
   "execution_count": null,
   "id": "7aef4d8c",
   "metadata": {},
   "outputs": [],
   "source": [
    "deeplabcut.label_frames(config_path)"
   ]
  },
  {
   "cell_type": "markdown",
   "id": "7520853e",
   "metadata": {},
   "source": [
    "You now want to label each frame with the location of the body parts you specified previously. In the DeepLabCut GUI, go through each frame and mark where each of the body parts are located. \n",
    "\n",
    "<img src=\"deeplapcut_gui_guide.png\">"
   ]
  },
  {
   "cell_type": "markdown",
   "id": "e8a11e73",
   "metadata": {},
   "source": [
    "When you are done, press cmd+s or File > Save to save your changes."
   ]
  },
  {
   "cell_type": "code",
   "execution_count": null,
   "id": "25becf2e",
   "metadata": {},
   "outputs": [],
   "source": [
    "deeplabcut.create_training_dataset(config_path)"
   ]
  },
  {
   "cell_type": "code",
   "execution_count": null,
   "id": "90395dcb",
   "metadata": {},
   "outputs": [],
   "source": [
    "deeplabcut.train_network(config_path, saveiters = 2500, maxiters = 10000, displayiters = 100)"
   ]
  },
  {
   "cell_type": "markdown",
   "id": "80d43ddb",
   "metadata": {},
   "source": []
  }
 ],
 "metadata": {
  "kernelspec": {
   "display_name": "Python 3",
   "language": "python",
   "name": "python3"
  },
  "language_info": {
   "codemirror_mode": {
    "name": "ipython",
    "version": 3
   },
   "file_extension": ".py",
   "mimetype": "text/x-python",
   "name": "python",
   "nbconvert_exporter": "python",
   "pygments_lexer": "ipython3",
   "version": "3.9.19"
  }
 },
 "nbformat": 4,
 "nbformat_minor": 5
}
