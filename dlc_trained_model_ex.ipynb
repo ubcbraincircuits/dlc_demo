{
 "cells": [
  {
   "cell_type": "markdown",
   "metadata": {},
   "source": [
    "<b>This jupyter notebook is a continuation of the other notebook titled 'dlc_tutorial.ipynb'.</b> If you have not already, please complete the steps outlined in that notebook before proceeding. \n",
    "\n",
    "In 'dlc_tutorial.ipynb', you have learned how to set up  labelled data for the model to use to train. In the interest of time, we are providing a better model which has already been trained over many more frames and total iterations to complete the final steps of our workshop. "
   ]
  },
  {
   "cell_type": "code",
   "execution_count": 1,
   "metadata": {},
   "outputs": [
    {
     "name": "stdout",
     "output_type": "stream",
     "text": [
      "Loading DLC 2.3.9...\n"
     ]
    }
   ],
   "source": [
    "import deeplabcut\n",
    "from pathlib import Path #package for managing paths\n",
    "import glob #package for finding files "
   ]
  },
  {
   "cell_type": "markdown",
   "metadata": {},
   "source": [
    "We will set our 'config_path' variable now to point to the trained model with the code block below:"
   ]
  },
  {
   "cell_type": "code",
   "execution_count": 2,
   "metadata": {},
   "outputs": [],
   "source": [
    "config_path = Path(Path.cwd(), \"my_files\", \"working_dir\", \"dlc_trained_model\", \"config_trained-model.yaml\")\n"
   ]
  },
  {
   "cell_type": "markdown",
   "metadata": {},
   "source": [
    "The next code block is run to evaluate the accuracy pixels. About 1 pixel is good for an accurate project. "
   ]
  },
  {
   "cell_type": "code",
   "execution_count": 3,
   "metadata": {},
   "outputs": [
    {
     "name": "stdout",
     "output_type": "stream",
     "text": [
      "Running  DLC_resnet50_testMar17shuffle1_750000  with # of training iterations: 750000\n"
     ]
    },
    {
     "name": "stderr",
     "output_type": "stream",
     "text": [
      "/Users/hannahcha/miniconda/envs/DEEPLABCUT_M1/lib/python3.9/site-packages/tensorflow/python/keras/engine/base_layer_v1.py:1694: UserWarning: `layer.apply` is deprecated and will be removed in a future version. Please use `layer.__call__` method instead.\n",
      "  warnings.warn('`layer.apply` is deprecated and '\n"
     ]
    },
    {
     "name": "stdout",
     "output_type": "stream",
     "text": [
      "Running evaluation ...\n"
     ]
    },
    {
     "name": "stderr",
     "output_type": "stream",
     "text": [
      "1500it [01:13, 20.51it/s]\n"
     ]
    },
    {
     "name": "stdout",
     "output_type": "stream",
     "text": [
      "Analysis is done and the results are stored (see evaluation-results) for snapshot:  snapshot-750000\n",
      "Results for 750000  training iterations: 95 1 train error: 1.41 pixels. Test error: 2.19  pixels.\n",
      "With pcutoff of 0.6  train error: 1.39 pixels. Test error: 2.19 pixels\n",
      "Thereby, the errors are given by the average distances between the labels by DLC and the scorer.\n",
      "The network is evaluated and the results are stored in the subdirectory 'evaluation_results'.\n",
      "Please check the results, then choose the best model (snapshot) for prediction. You can update the config.yaml file with the appropriate index for the 'snapshotindex'.\n",
      "Use the function 'analyze_video' to make predictions on new videos.\n",
      "Otherwise, consider adding more labeled-data and retraining the network (see DeepLabCut workflow Fig 2, Nath 2019)\n"
     ]
    },
    {
     "name": "stderr",
     "output_type": "stream",
     "text": [
      "/Users/hannahcha/miniconda/envs/DEEPLABCUT_M1/lib/python3.9/site-packages/deeplabcut/pose_estimation_tensorflow/core/evaluate.py:930: FutureWarning: Starting with pandas version 3.0 all arguments of to_hdf except for the argument 'path_or_buf' will be keyword-only.\n",
      "  DataMachine.to_hdf(resultsfilename, \"df_with_missing\")\n"
     ]
    }
   ],
   "source": [
    "deeplabcut.evaluate_network(config_path) "
   ]
  },
  {
   "cell_type": "markdown",
   "metadata": {},
   "source": [
    "We now want to use the trained model to analyze the videos we downloaded. The 'video_path' variable is set to point to the folder where our downloaded videos are, then we run the analysis. This step will take a couple minutes.\n",
    "\n",
    "'save_as_csv' set to 'True' will create a csv file which includes XY coordinates of the labelled points in each frame in the video, as well as the model's confidence in their locations.\n",
    "\n",
    "<em>If DLC reports the video has already been analyzed, you can delete any output that might already be existing in the folder labeled \"evaluation-results\" to re-do.</em>"
   ]
  },
  {
   "cell_type": "code",
   "execution_count": 4,
   "metadata": {},
   "outputs": [
    {
     "name": "stdout",
     "output_type": "stream",
     "text": [
      "Using snapshot-750000 for model /Users/hannahcha/IdeaProjects/dlc_demo/my_files/working_dir/dlc_trained_model/dlc-models/iteration-0/testMar17-trainset95shuffle1\n"
     ]
    },
    {
     "name": "stderr",
     "output_type": "stream",
     "text": [
      "/Users/hannahcha/miniconda/envs/DEEPLABCUT_M1/lib/python3.9/site-packages/tensorflow/python/keras/engine/base_layer_v1.py:1694: UserWarning: `layer.apply` is deprecated and will be removed in a future version. Please use `layer.__call__` method instead.\n",
      "  warnings.warn('`layer.apply` is deprecated and '\n"
     ]
    },
    {
     "name": "stdout",
     "output_type": "stream",
     "text": [
      "Starting to analyze %  /Users/hannahcha/IdeaProjects/dlc_demo/my_files/videos/00604.avi\n",
      "Loading  /Users/hannahcha/IdeaProjects/dlc_demo/my_files/videos/00604.avi\n",
      "Duration of video [s]:  208.87 , recorded with  30.0 fps!\n",
      "Overall # of frames:  6266  found with (before cropping) frame dimensions:  1173 1068\n",
      "Starting to extract posture\n"
     ]
    },
    {
     "name": "stderr",
     "output_type": "stream",
     "text": [
      "100%|██████████| 6266/6266 [38:39<00:00,  2.70it/s]   \n",
      "/Users/hannahcha/miniconda/envs/DEEPLABCUT_M1/lib/python3.9/site-packages/deeplabcut/utils/auxiliaryfunctions.py:402: FutureWarning: Starting with pandas version 3.0 all arguments of to_hdf except for the argument 'path_or_buf' will be keyword-only.\n",
      "  DataMachine.to_hdf(dataname, \"df_with_missing\", format=\"table\", mode=\"w\")\n"
     ]
    },
    {
     "name": "stdout",
     "output_type": "stream",
     "text": [
      "Saving results in /Users/hannahcha/IdeaProjects/dlc_demo/my_files/videos...\n",
      "Saving csv poses!\n",
      "The videos are analyzed. Now your research can truly start! \n",
      " You can create labeled videos with 'create_labeled_video'\n",
      "If the tracking is not satisfactory for some videos, consider expanding the training set. You can use the function 'extract_outlier_frames' to extract a few representative outlier frames.\n"
     ]
    },
    {
     "data": {
      "text/plain": [
       "'DLC_resnet50_testMar17shuffle1_750000'"
      ]
     },
     "execution_count": 4,
     "metadata": {},
     "output_type": "execute_result"
    }
   ],
   "source": [
    "video_path = glob.glob(str(Path(Path.cwd(), \"my_files\", \"videos\"))+\"/*.avi\") #path of original videos\n",
    "\n",
    "deeplabcut.analyze_videos(config_path, video_path, save_as_csv = True)"
   ]
  },
  {
   "cell_type": "markdown",
   "metadata": {},
   "source": [
    "This next step will place the labelled video and its associated csv in the 'videos' folder."
   ]
  },
  {
   "cell_type": "code",
   "execution_count": 8,
   "metadata": {},
   "outputs": [
    {
     "name": "stdout",
     "output_type": "stream",
     "text": [
      "Starting to process video: /Users/hannahcha/IdeaProjects/dlc_demo/my_files/videos/00604.avi\n",
      "Loading /Users/hannahcha/IdeaProjects/dlc_demo/my_files/videos/00604.avi and data.\n",
      "Duration of video [s]: 208.87, recorded with 30.0 fps!\n",
      "Overall # of frames: 6266 with cropped frame dimensions: 1173 1068\n",
      "Generating frames and creating video.\n"
     ]
    },
    {
     "name": "stderr",
     "output_type": "stream",
     "text": [
      "100%|██████████| 6266/6266 [00:54<00:00, 113.93it/s]\n"
     ]
    },
    {
     "data": {
      "text/plain": [
       "[True]"
      ]
     },
     "execution_count": 8,
     "metadata": {},
     "output_type": "execute_result"
    }
   ],
   "source": [
    "deeplabcut.create_labeled_video(config_path, video_path)"
   ]
  }
 ],
 "metadata": {
  "kernelspec": {
   "display_name": "DEEPLABCUT_M1",
   "language": "python",
   "name": "python3"
  },
  "language_info": {
   "codemirror_mode": {
    "name": "ipython",
    "version": 3
   },
   "file_extension": ".py",
   "mimetype": "text/x-python",
   "name": "python",
   "nbconvert_exporter": "python",
   "pygments_lexer": "ipython3",
   "version": "3.9.19"
  }
 },
 "nbformat": 4,
 "nbformat_minor": 2
}
