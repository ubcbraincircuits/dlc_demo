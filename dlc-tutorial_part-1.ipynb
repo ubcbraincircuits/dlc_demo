{
 "cells": [
  {
   "cell_type": "markdown",
   "id": "84474bd4",
   "metadata": {},
   "source": [
    "The directory titled \"my_files\" is where all of your files for this workshop will go. The \"videos\" folder within this directory is where you will download some sample videos, and the \"working_dir\" is where your project files will go. "
   ]
  },
  {
   "cell_type": "markdown",
   "id": "ee0c4ab8",
   "metadata": {},
   "source": [
    "If the code block below is showing warnings, check that you have the correct kernel running.\n",
    "\n",
    ">To view your current kernel or change kernels, go to the top menu bar and click Kernel > Change kernel\n",
    "In the dropdown menu, you should be selecting ```Python[conda env:DEEPLABCUT]``` or ```Python[conda env:DEEPLABCUT_M1]```, depending on which .yaml file you used."
   ]
  },
  {
   "cell_type": "code",
   "execution_count": 1,
   "id": "initial_id",
   "metadata": {},
   "outputs": [
    {
     "name": "stdout",
     "output_type": "stream",
     "text": [
      "Loading DLC 2.3.9...\n"
     ]
    }
   ],
   "source": [
    "import deeplabcut\n",
    "from pathlib import Path #package for managing paths\n",
    "import glob #package for finding files "
   ]
  },
  {
   "cell_type": "markdown",
   "id": "4c27bb1f",
   "metadata": {},
   "source": [
    "We will start by downloading some sample videos for the workshop.\n",
    "\n",
    "- Visit <a href=\"https://osf.io/g9d76/?view_only=4dee0dec63c74fe8ab4f5b0a48623c43\">this OSF page</a> and click on 'cropped video'\n",
    "- Download this folder as a zip file\n",
    "- In your file explorer, extract this zip file and move it into the \"videos\" folder."
   ]
  },
  {
   "cell_type": "markdown",
   "id": "f920783c",
   "metadata": {},
   "source": [
    "Before running the next block of code, you can edit the variable names.\n",
    "<ul>\n",
    "<li> Variables should be encased by <em>single</em> quotes; ie '<em>name_of_variable</em>'</li>\n",
    "<li>It is good practice to avoid spaces in folder and file names; underscores preferred.</li>\n",
    "</ul>"
   ]
  },
  {
   "cell_type": "code",
   "execution_count": 2,
   "id": "cf4477aa",
   "metadata": {},
   "outputs": [
    {
     "name": "stdout",
     "output_type": "stream",
     "text": [
      "project_name: deeplabcut_test\n",
      "experimenter_name: my_name\n",
      "video_paths: ['/Users/hannahcha/IdeaProjects/dlc_demo/my_files/videos/00604.avi']\n",
      "working_dir_path: /Users/hannahcha/IdeaProjects/dlc_demo/my_files/working_dir\n"
     ]
    }
   ],
   "source": [
    "#The following variables will be included in the name of a new project folder created in working_dir. Customize them as needed!\n",
    "\n",
    "project_name = 'deeplabcut_test' #project name here\n",
    "\n",
    "working_dir_path = Path(Path.cwd(), \"my_files\", \"working_dir\")\n",
    "\n",
    "experimenter_name = 'my_name' #your name here\n",
    "\n",
    "video_paths = glob.glob(str(Path(Path.cwd(), \"my_files\", \"videos\"))+\"/*.avi\")\n",
    "assert len(video_paths) > 0, \"Move the demo video files into the 'videos' folder\"\n",
    "\n",
    "print(\"project_name:\",project_name)\n",
    "print(\"experimenter_name:\",experimenter_name)\n",
    "print(\"video_paths:\",video_paths)\n",
    "print(\"working_dir_path:\",working_dir_path)"
   ]
  },
  {
   "cell_type": "markdown",
   "id": "0601ce66",
   "metadata": {},
   "source": [
    "Now with our project name and experimenter name confirmed, we can create our new project!"
   ]
  },
  {
   "cell_type": "code",
   "execution_count": 3,
   "id": "330443e3",
   "metadata": {},
   "outputs": [
    {
     "name": "stdout",
     "output_type": "stream",
     "text": [
      "Created \"/Users/hannahcha/IdeaProjects/dlc_demo/my_files/working_dir/deeplabcut_test-my_name-2024-04-11/videos\"\n",
      "Created \"/Users/hannahcha/IdeaProjects/dlc_demo/my_files/working_dir/deeplabcut_test-my_name-2024-04-11/labeled-data\"\n",
      "Created \"/Users/hannahcha/IdeaProjects/dlc_demo/my_files/working_dir/deeplabcut_test-my_name-2024-04-11/training-datasets\"\n",
      "Created \"/Users/hannahcha/IdeaProjects/dlc_demo/my_files/working_dir/deeplabcut_test-my_name-2024-04-11/dlc-models\"\n",
      "Copying the videos\n",
      "/Users/hannahcha/IdeaProjects/dlc_demo/my_files/working_dir/deeplabcut_test-my_name-2024-04-11/videos/00604.avi\n",
      "Generated \"/Users/hannahcha/IdeaProjects/dlc_demo/my_files/working_dir/deeplabcut_test-my_name-2024-04-11/config.yaml\"\n",
      "\n",
      "A new project with name deeplabcut_test-my_name-2024-04-11 is created at /Users/hannahcha/IdeaProjects/dlc_demo/my_files/working_dir and a configurable file (config.yaml) is stored there. Change the parameters in this file to adapt to your project's needs.\n",
      " Once you have changed the configuration file, use the function 'extract_frames' to select frames for labeling.\n",
      ". [OPTIONAL] Use the function 'add_new_videos' to add new videos to your project (at any stage).\n"
     ]
    },
    {
     "data": {
      "text/plain": [
       "'/Users/hannahcha/IdeaProjects/dlc_demo/my_files/working_dir/deeplabcut_test-my_name-2024-04-11/config.yaml'"
      ]
     },
     "execution_count": 3,
     "metadata": {},
     "output_type": "execute_result"
    }
   ],
   "source": [
    "deeplabcut.create_new_project(\n",
    "    project_name,\n",
    "    experimenter_name,\n",
    "    video_paths, \n",
    "    working_directory=working_dir_path,\n",
    "    copy_videos=True)"
   ]
  },
  {
   "cell_type": "markdown",
   "id": "69d6d057",
   "metadata": {},
   "source": [
    "After running the above code block, you should now notice in your file directory that your working directory has a new folder titled with your project name, your own name, and the date."
   ]
  },
  {
   "cell_type": "code",
   "execution_count": 4,
   "id": "c91a4348",
   "metadata": {},
   "outputs": [],
   "source": [
    "from datetime import datetime \n",
    "\n",
    "date_now = datetime.now().strftime(\"%Y-%m-%d\")\n",
    "\n",
    "config_path = Path(Path.cwd(), \"my_files\", \"working_dir\", project_name+\"-\"+experimenter_name+\"-\"+date_now, \"config.yaml\")\n",
    "\n",
    "assert config_path.is_file(), f\"Cannot find the config.yaml file. Please make sure you have run the `deeplabcut.create_new_project` code above has been run and {str(Path(working_dir_path, project_name))} exists.\""
   ]
  },
  {
   "cell_type": "markdown",
   "id": "10946c8d",
   "metadata": {},
   "source": [
    "We'll now edit the config.yaml file, which can be found in the new folder you just created. Open the file within Jupyter Notebook to make your edits.\n",
    "\n",
    "<ul>\n",
    "<li>Under ‘body parts’, list the body parts that you want to label, using the following format:<br>\n",
    "        -head<br>\n",
    "        -tail</li>\n",
    "<li>Under 'skeleton,' list how you want the body parts to connect using the following format: <br>\n",
    "-&nbsp;-head<br>\n",
    "&nbsp;&nbsp;&nbsp;&nbsp;-tail<br>\n",
    "<ul>\n",
    "<li>This means that the head and tail are connected. Note these are not directional</li>\n",
    "</ul>\n",
    "</ul>\n",
    "<li>There is also the number of frames to pick and label. The default is 20, and for the interest of\n",
    "this workshop we will keep it at 20. When using for larger data sets or for more accurate results, set a higher number of\n",
    "frames.</li>\n",
    "\n",
    "Save the changes you've made to this file.\n"
   ]
  },
  {
   "cell_type": "markdown",
   "id": "8517702f",
   "metadata": {},
   "source": [
    "The next code block will prompt you to confirm extraction, simply type 'y' or 'yes' to continue."
   ]
  },
  {
   "cell_type": "code",
   "execution_count": 10,
   "id": "62dc3524",
   "metadata": {},
   "outputs": [
    {
     "name": "stdout",
     "output_type": "stream",
     "text": [
      "Config file read successfully.\n",
      "Do you want to extract (perhaps additional) frames for video: /Users/hannahcha/IdeaProjects/dlc_demo/my_files/working_dir/deeplabcut_test-my_name-2024-04-11/videos/00604.avi ?\n"
     ]
    },
    {
     "ename": "SystemExit",
     "evalue": "Delete the frames and try again later!",
     "output_type": "error",
     "traceback": [
      "An exception has occurred, use %tb to see the full traceback.\n",
      "\u001b[0;31mSystemExit\u001b[0m\u001b[0;31m:\u001b[0m Delete the frames and try again later!\n"
     ]
    },
    {
     "name": "stderr",
     "output_type": "stream",
     "text": [
      "/Users/hannahcha/miniconda/envs/DEEPLABCUT_M1/lib/python3.9/site-packages/IPython/core/interactiveshell.py:3558: UserWarning: To exit: use 'exit', 'quit', or Ctrl-D.\n",
      "  warn(\"To exit: use 'exit', 'quit', or Ctrl-D.\", stacklevel=1)\n"
     ]
    }
   ],
   "source": [
    "deeplabcut.extract_frames(config_path,'automatic','kmeans',crop=False)"
   ]
  },
  {
   "cell_type": "markdown",
   "id": "02f509a9",
   "metadata": {},
   "source": [
    "This next block of code will open the DeepLabCut GUI. In the GUI window, go to the upper left corner and click File > Open Folder.\n",
    "In the file explorer that opens, go to your working directory folder > current project folder > 'labelled data' folder. In this folder you should see a folder for each of the sample videos you downloaded, select one and click 'open.'\n",
    "\n",
    "This will open a new window prompt asking you to choose your reader; select 'napari DeepLabCut' then click 'ok.'\n"
   ]
  },
  {
   "cell_type": "code",
   "execution_count": null,
   "id": "7aef4d8c",
   "metadata": {},
   "outputs": [
    {
     "name": "stderr",
     "output_type": "stream",
     "text": [
      "WARNING: delivering touch release to same window QWindow(0x0) not QWidgetWindow(0x2c0f169e0, name=\"_QtMainWindowClassWindow\")\n",
      "WARNING:vispy:delivering touch release to same window QWindow(0x0) not QWidgetWindow(0x2c0f169e0, name=\"_QtMainWindowClassWindow\")\n",
      "WARNING: skipping QEventPoint(id=0 ts=0 pos=0,0 scn=438.673,230.06 gbl=438.673,230.06 Released ellipse=(1x1 ∡ 0) vel=0,0 press=-438.673,-230.06 last=-438.673,-230.06 Δ 438.673,230.06) : no target window\n",
      "WARNING:vispy:skipping QEventPoint(id=0 ts=0 pos=0,0 scn=438.673,230.06 gbl=438.673,230.06 Released ellipse=(1x1 ∡ 0) vel=0,0 press=-438.673,-230.06 last=-438.673,-230.06 Δ 438.673,230.06) : no target window\n",
      "WARNING: skipping QEventPoint(id=1 ts=0 pos=0,0 scn=462.611,236.9 gbl=462.611,236.9 Released ellipse=(1x1 ∡ 0) vel=0,0 press=-462.611,-236.9 last=-462.611,-236.9 Δ 462.611,236.9) : no target window\n",
      "WARNING:vispy:skipping QEventPoint(id=1 ts=0 pos=0,0 scn=462.611,236.9 gbl=462.611,236.9 Released ellipse=(1x1 ∡ 0) vel=0,0 press=-462.611,-236.9 last=-462.611,-236.9 Δ 462.611,236.9) : no target window\n",
      "WARNING: delivering touch release to same window QWindow(0x0) not QWidgetWindow(0x2c0f169e0, name=\"_QtMainWindowClassWindow\")\n",
      "WARNING:vispy:delivering touch release to same window QWindow(0x0) not QWidgetWindow(0x2c0f169e0, name=\"_QtMainWindowClassWindow\")\n",
      "WARNING: skipping QEventPoint(id=1 ts=0 pos=0,0 scn=848.644,493.953 gbl=848.644,493.953 Released ellipse=(1x1 ∡ 0) vel=0,0 press=-848.644,-493.953 last=-848.644,-493.953 Δ 848.644,493.953) : no target window\n",
      "WARNING:vispy:skipping QEventPoint(id=1 ts=0 pos=0,0 scn=848.644,493.953 gbl=848.644,493.953 Released ellipse=(1x1 ∡ 0) vel=0,0 press=-848.644,-493.953 last=-848.644,-493.953 Δ 848.644,493.953) : no target window\n",
      "WARNING: delivering touch release to same window QWindow(0x0) not QWidgetWindow(0x2c0f169e0, name=\"_QtMainWindowClassWindow\")\n",
      "WARNING:vispy:delivering touch release to same window QWindow(0x0) not QWidgetWindow(0x2c0f169e0, name=\"_QtMainWindowClassWindow\")\n",
      "WARNING: skipping QEventPoint(id=1 ts=0 pos=0,0 scn=388.403,697.65 gbl=388.403,697.65 Released ellipse=(1x1 ∡ 0) vel=0,0 press=-388.403,-697.65 last=-388.403,-697.65 Δ 388.403,697.65) : no target window\n",
      "WARNING:vispy:skipping QEventPoint(id=1 ts=0 pos=0,0 scn=388.403,697.65 gbl=388.403,697.65 Released ellipse=(1x1 ∡ 0) vel=0,0 press=-388.403,-697.65 last=-388.403,-697.65 Δ 388.403,697.65) : no target window\n",
      "WARNING: delivering touch release to same window QWindow(0x0) not QWidgetWindow(0x2c0f169e0, name=\"_QtMainWindowClassWindow\")\n",
      "WARNING:vispy:delivering touch release to same window QWindow(0x0) not QWidgetWindow(0x2c0f169e0, name=\"_QtMainWindowClassWindow\")\n",
      "WARNING: skipping QEventPoint(id=2 ts=0 pos=0,0 scn=410.699,701.555 gbl=410.699,701.555 Released ellipse=(1x1 ∡ 0) vel=0,0 press=-410.699,-701.555 last=-410.699,-701.555 Δ 410.699,701.555) : no target window\n",
      "WARNING:vispy:skipping QEventPoint(id=2 ts=0 pos=0,0 scn=410.699,701.555 gbl=410.699,701.555 Released ellipse=(1x1 ∡ 0) vel=0,0 press=-410.699,-701.555 last=-410.699,-701.555 Δ 410.699,701.555) : no target window\n",
      "WARNING: delivering touch release to same window QWindow(0x0) not QWidgetWindow(0x2c0f169e0, name=\"_QtMainWindowClassWindow\")\n",
      "WARNING:vispy:delivering touch release to same window QWindow(0x0) not QWidgetWindow(0x2c0f169e0, name=\"_QtMainWindowClassWindow\")\n",
      "WARNING: skipping QEventPoint(id=1 ts=0 pos=0,0 scn=368.79,394.66 gbl=368.79,394.66 Released ellipse=(1x1 ∡ 0) vel=0,0 press=-368.79,-394.66 last=-368.79,-394.66 Δ 368.79,394.66) : no target window\n",
      "WARNING:vispy:skipping QEventPoint(id=1 ts=0 pos=0,0 scn=368.79,394.66 gbl=368.79,394.66 Released ellipse=(1x1 ∡ 0) vel=0,0 press=-368.79,-394.66 last=-368.79,-394.66 Δ 368.79,394.66) : no target window\n",
      "WARNING: delivering touch release to same window QWindow(0x0) not QWidgetWindow(0x2c0f169e0, name=\"_QtMainWindowClassWindow\")\n",
      "WARNING:vispy:delivering touch release to same window QWindow(0x0) not QWidgetWindow(0x2c0f169e0, name=\"_QtMainWindowClassWindow\")\n",
      "WARNING: skipping QEventPoint(id=1 ts=0 pos=0,0 scn=800.893,598.384 gbl=800.893,598.384 Released ellipse=(1x1 ∡ 0) vel=0,0 press=-800.893,-598.384 last=-800.893,-598.384 Δ 800.893,598.384) : no target window\n",
      "WARNING:vispy:skipping QEventPoint(id=1 ts=0 pos=0,0 scn=800.893,598.384 gbl=800.893,598.384 Released ellipse=(1x1 ∡ 0) vel=0,0 press=-800.893,-598.384 last=-800.893,-598.384 Δ 800.893,598.384) : no target window\n",
      "WARNING: delivering touch release to same window QWindow(0x0) not QWidgetWindow(0x2c0f169e0, name=\"_QtMainWindowClassWindow\")\n",
      "WARNING:vispy:delivering touch release to same window QWindow(0x0) not QWidgetWindow(0x2c0f169e0, name=\"_QtMainWindowClassWindow\")\n",
      "WARNING: skipping QEventPoint(id=1 ts=0 pos=0,0 scn=807.401,535.471 gbl=807.401,535.471 Released ellipse=(1x1 ∡ 0) vel=0,0 press=-807.401,-535.471 last=-807.401,-535.471 Δ 807.401,535.471) : no target window\n",
      "WARNING:vispy:skipping QEventPoint(id=1 ts=0 pos=0,0 scn=807.401,535.471 gbl=807.401,535.471 Released ellipse=(1x1 ∡ 0) vel=0,0 press=-807.401,-535.471 last=-807.401,-535.471 Δ 807.401,535.471) : no target window\n",
      "WARNING: delivering touch release to same window QWindow(0x0) not QWidgetWindow(0x2c0f169e0, name=\"_QtMainWindowClassWindow\")\n",
      "WARNING:vispy:delivering touch release to same window QWindow(0x0) not QWidgetWindow(0x2c0f169e0, name=\"_QtMainWindowClassWindow\")\n",
      "WARNING: skipping QEventPoint(id=1 ts=0 pos=0,0 scn=837.526,676.138 gbl=837.526,676.138 Released ellipse=(1x1 ∡ 0) vel=0,0 press=-837.526,-676.138 last=-837.526,-676.138 Δ 837.526,676.138) : no target window\n",
      "WARNING:vispy:skipping QEventPoint(id=1 ts=0 pos=0,0 scn=837.526,676.138 gbl=837.526,676.138 Released ellipse=(1x1 ∡ 0) vel=0,0 press=-837.526,-676.138 last=-837.526,-676.138 Δ 837.526,676.138) : no target window\n",
      "WARNING: delivering touch release to same window QWindow(0x0) not QWidgetWindow(0x2c0f169e0, name=\"_QtMainWindowClassWindow\")\n",
      "WARNING:vispy:delivering touch release to same window QWindow(0x0) not QWidgetWindow(0x2c0f169e0, name=\"_QtMainWindowClassWindow\")\n",
      "WARNING: skipping QEventPoint(id=1 ts=0 pos=0,0 scn=846.852,668.698 gbl=846.852,668.698 Released ellipse=(1x1 ∡ 0) vel=0,0 press=-846.852,-668.698 last=-846.852,-668.698 Δ 846.852,668.698) : no target window\n",
      "WARNING:vispy:skipping QEventPoint(id=1 ts=0 pos=0,0 scn=846.852,668.698 gbl=846.852,668.698 Released ellipse=(1x1 ∡ 0) vel=0,0 press=-846.852,-668.698 last=-846.852,-668.698 Δ 846.852,668.698) : no target window\n",
      "WARNING: delivering touch release to same window QWindow(0x0) not QWidgetWindow(0x2c0f169e0, name=\"_QtMainWindowClassWindow\")\n",
      "WARNING:vispy:delivering touch release to same window QWindow(0x0) not QWidgetWindow(0x2c0f169e0, name=\"_QtMainWindowClassWindow\")\n",
      "WARNING: skipping QEventPoint(id=1 ts=0 pos=0,0 scn=850.654,671.558 gbl=850.654,671.558 Released ellipse=(1x1 ∡ 0) vel=0,0 press=-850.654,-671.558 last=-850.654,-671.558 Δ 850.654,671.558) : no target window\n",
      "WARNING:vispy:skipping QEventPoint(id=1 ts=0 pos=0,0 scn=850.654,671.558 gbl=850.654,671.558 Released ellipse=(1x1 ∡ 0) vel=0,0 press=-850.654,-671.558 last=-850.654,-671.558 Δ 850.654,671.558) : no target window\n",
      "WARNING: delivering touch release to same window QWindow(0x0) not QWidgetWindow(0x2c0f169e0, name=\"_QtMainWindowClassWindow\")\n",
      "WARNING:vispy:delivering touch release to same window QWindow(0x0) not QWidgetWindow(0x2c0f169e0, name=\"_QtMainWindowClassWindow\")\n",
      "WARNING: skipping QEventPoint(id=1 ts=0 pos=0,0 scn=820.327,559.483 gbl=820.327,559.483 Released ellipse=(1x1 ∡ 0) vel=0,0 press=-820.327,-559.483 last=-820.327,-559.483 Δ 820.327,559.483) : no target window\n",
      "WARNING:vispy:skipping QEventPoint(id=1 ts=0 pos=0,0 scn=820.327,559.483 gbl=820.327,559.483 Released ellipse=(1x1 ∡ 0) vel=0,0 press=-820.327,-559.483 last=-820.327,-559.483 Δ 820.327,559.483) : no target window\n",
      "WARNING: delivering touch release to same window QWindow(0x0) not QWidgetWindow(0x2c0f169e0, name=\"_QtMainWindowClassWindow\")\n",
      "WARNING:vispy:delivering touch release to same window QWindow(0x0) not QWidgetWindow(0x2c0f169e0, name=\"_QtMainWindowClassWindow\")\n",
      "WARNING: skipping QEventPoint(id=1 ts=0 pos=0,0 scn=892.951,632.831 gbl=892.951,632.831 Released ellipse=(1x1 ∡ 0) vel=0,0 press=-892.951,-632.831 last=-892.951,-632.831 Δ 892.951,632.831) : no target window\n",
      "WARNING:vispy:skipping QEventPoint(id=1 ts=0 pos=0,0 scn=892.951,632.831 gbl=892.951,632.831 Released ellipse=(1x1 ∡ 0) vel=0,0 press=-892.951,-632.831 last=-892.951,-632.831 Δ 892.951,632.831) : no target window\n",
      "WARNING: delivering touch release to same window QWindow(0x0) not QWidgetWindow(0x2c0f169e0, name=\"_QtMainWindowClassWindow\")\n",
      "WARNING:vispy:delivering touch release to same window QWindow(0x0) not QWidgetWindow(0x2c0f169e0, name=\"_QtMainWindowClassWindow\")\n",
      "WARNING: skipping QEventPoint(id=1 ts=0 pos=0,0 scn=868.642,723.461 gbl=868.642,723.461 Released ellipse=(1x1 ∡ 0) vel=0,0 press=-868.642,-723.461 last=-868.642,-723.461 Δ 868.642,723.461) : no target window\n",
      "WARNING:vispy:skipping QEventPoint(id=1 ts=0 pos=0,0 scn=868.642,723.461 gbl=868.642,723.461 Released ellipse=(1x1 ∡ 0) vel=0,0 press=-868.642,-723.461 last=-868.642,-723.461 Δ 868.642,723.461) : no target window\n",
      "WARNING: delivering touch release to same window QWindow(0x0) not QWidgetWindow(0x2c0f169e0, name=\"_QtMainWindowClassWindow\")\n",
      "WARNING:vispy:delivering touch release to same window QWindow(0x0) not QWidgetWindow(0x2c0f169e0, name=\"_QtMainWindowClassWindow\")\n",
      "WARNING: skipping QEventPoint(id=1 ts=0 pos=0,0 scn=532.59,536.222 gbl=532.59,536.222 Released ellipse=(1x1 ∡ 0) vel=0,0 press=-532.59,-536.222 last=-532.59,-536.222 Δ 532.59,536.222) : no target window\n",
      "WARNING:vispy:skipping QEventPoint(id=1 ts=0 pos=0,0 scn=532.59,536.222 gbl=532.59,536.222 Released ellipse=(1x1 ∡ 0) vel=0,0 press=-532.59,-536.222 last=-532.59,-536.222 Δ 532.59,536.222) : no target window\n",
      "WARNING: delivering touch release to same window QWindow(0x0) not QWidgetWindow(0x2c0f169e0, name=\"_QtMainWindowClassWindow\")\n",
      "WARNING:vispy:delivering touch release to same window QWindow(0x0) not QWidgetWindow(0x2c0f169e0, name=\"_QtMainWindowClassWindow\")\n",
      "WARNING: skipping QEventPoint(id=1 ts=0 pos=0,0 scn=773.038,678.849 gbl=773.038,678.849 Released ellipse=(1x1 ∡ 0) vel=0,0 press=-773.038,-678.849 last=-773.038,-678.849 Δ 773.038,678.849) : no target window\n",
      "WARNING:vispy:skipping QEventPoint(id=1 ts=0 pos=0,0 scn=773.038,678.849 gbl=773.038,678.849 Released ellipse=(1x1 ∡ 0) vel=0,0 press=-773.038,-678.849 last=-773.038,-678.849 Δ 773.038,678.849) : no target window\n",
      "WARNING: delivering touch release to same window QWindow(0x0) not QWidgetWindow(0x2c0f169e0, name=\"_QtMainWindowClassWindow\")\n",
      "WARNING:vispy:delivering touch release to same window QWindow(0x0) not QWidgetWindow(0x2c0f169e0, name=\"_QtMainWindowClassWindow\")\n",
      "WARNING: skipping QEventPoint(id=1 ts=0 pos=0,0 scn=485.554,544.202 gbl=485.554,544.202 Released ellipse=(1x1 ∡ 0) vel=0,0 press=-485.554,-544.202 last=-485.554,-544.202 Δ 485.554,544.202) : no target window\n",
      "WARNING:vispy:skipping QEventPoint(id=1 ts=0 pos=0,0 scn=485.554,544.202 gbl=485.554,544.202 Released ellipse=(1x1 ∡ 0) vel=0,0 press=-485.554,-544.202 last=-485.554,-544.202 Δ 485.554,544.202) : no target window\n",
      "WARNING: delivering touch release to same window QWindow(0x0) not QWidgetWindow(0x2c0f169e0, name=\"_QtMainWindowClassWindow\")\n",
      "WARNING:vispy:delivering touch release to same window QWindow(0x0) not QWidgetWindow(0x2c0f169e0, name=\"_QtMainWindowClassWindow\")\n",
      "WARNING: skipping QEventPoint(id=1 ts=0 pos=0,0 scn=819.652,718.152 gbl=819.652,718.152 Released ellipse=(1x1 ∡ 0) vel=0,0 press=-819.652,-718.152 last=-819.652,-718.152 Δ 819.652,718.152) : no target window\n",
      "WARNING:vispy:skipping QEventPoint(id=1 ts=0 pos=0,0 scn=819.652,718.152 gbl=819.652,718.152 Released ellipse=(1x1 ∡ 0) vel=0,0 press=-819.652,-718.152 last=-819.652,-718.152 Δ 819.652,718.152) : no target window\n",
      "WARNING: delivering touch release to same window QWindow(0x0) not QWidgetWindow(0x2c0f169e0, name=\"_QtMainWindowClassWindow\")\n",
      "WARNING:vispy:delivering touch release to same window QWindow(0x0) not QWidgetWindow(0x2c0f169e0, name=\"_QtMainWindowClassWindow\")\n",
      "WARNING: skipping QEventPoint(id=1 ts=0 pos=0,0 scn=535.919,572.2 gbl=535.919,572.2 Released ellipse=(1x1 ∡ 0) vel=0,0 press=-535.919,-572.2 last=-535.919,-572.2 Δ 535.919,572.2) : no target window\n",
      "WARNING:vispy:skipping QEventPoint(id=1 ts=0 pos=0,0 scn=535.919,572.2 gbl=535.919,572.2 Released ellipse=(1x1 ∡ 0) vel=0,0 press=-535.919,-572.2 last=-535.919,-572.2 Δ 535.919,572.2) : no target window\n",
      "WARNING: delivering touch release to same window QWindow(0x0) not QWidgetWindow(0x2c0f169e0, name=\"_QtMainWindowClassWindow\")\n",
      "WARNING:vispy:delivering touch release to same window QWindow(0x0) not QWidgetWindow(0x2c0f169e0, name=\"_QtMainWindowClassWindow\")\n",
      "WARNING: skipping QEventPoint(id=1 ts=0 pos=0,0 scn=749.442,631.15 gbl=749.442,631.15 Released ellipse=(1x1 ∡ 0) vel=0,0 press=-749.442,-631.15 last=-749.442,-631.15 Δ 749.442,631.15) : no target window\n",
      "WARNING:vispy:skipping QEventPoint(id=1 ts=0 pos=0,0 scn=749.442,631.15 gbl=749.442,631.15 Released ellipse=(1x1 ∡ 0) vel=0,0 press=-749.442,-631.15 last=-749.442,-631.15 Δ 749.442,631.15) : no target window\n",
      "WARNING: delivering touch release to same window QWindow(0x0) not QWidgetWindow(0x2c0f169e0, name=\"_QtMainWindowClassWindow\")\n",
      "WARNING:vispy:delivering touch release to same window QWindow(0x0) not QWidgetWindow(0x2c0f169e0, name=\"_QtMainWindowClassWindow\")\n",
      "WARNING: skipping QEventPoint(id=1 ts=0 pos=0,0 scn=783.495,673.001 gbl=783.495,673.001 Released ellipse=(1x1 ∡ 0) vel=0,0 press=-783.495,-673.001 last=-783.495,-673.001 Δ 783.495,673.001) : no target window\n",
      "WARNING:vispy:skipping QEventPoint(id=1 ts=0 pos=0,0 scn=783.495,673.001 gbl=783.495,673.001 Released ellipse=(1x1 ∡ 0) vel=0,0 press=-783.495,-673.001 last=-783.495,-673.001 Δ 783.495,673.001) : no target window\n",
      "WARNING: delivering touch release to same window QWindow(0x0) not QWidgetWindow(0x2c0f169e0, name=\"_QtMainWindowClassWindow\")\n",
      "WARNING:vispy:delivering touch release to same window QWindow(0x0) not QWidgetWindow(0x2c0f169e0, name=\"_QtMainWindowClassWindow\")\n",
      "WARNING: skipping QEventPoint(id=1 ts=0 pos=0,0 scn=834.111,660.79 gbl=834.111,660.79 Released ellipse=(1x1 ∡ 0) vel=0,0 press=-834.111,-660.79 last=-834.111,-660.79 Δ 834.111,660.79) : no target window\n",
      "WARNING:vispy:skipping QEventPoint(id=1 ts=0 pos=0,0 scn=834.111,660.79 gbl=834.111,660.79 Released ellipse=(1x1 ∡ 0) vel=0,0 press=-834.111,-660.79 last=-834.111,-660.79 Δ 834.111,660.79) : no target window\n",
      "WARNING: delivering touch release to same window QWindow(0x0) not QWidgetWindow(0x2c0f169e0, name=\"_QtMainWindowClassWindow\")\n",
      "WARNING:vispy:delivering touch release to same window QWindow(0x0) not QWidgetWindow(0x2c0f169e0, name=\"_QtMainWindowClassWindow\")\n",
      "WARNING: skipping QEventPoint(id=1 ts=0 pos=0,0 scn=857.563,673.099 gbl=857.563,673.099 Released ellipse=(1x1 ∡ 0) vel=0,0 press=-857.563,-673.099 last=-857.563,-673.099 Δ 857.563,673.099) : no target window\n",
      "WARNING:vispy:skipping QEventPoint(id=1 ts=0 pos=0,0 scn=857.563,673.099 gbl=857.563,673.099 Released ellipse=(1x1 ∡ 0) vel=0,0 press=-857.563,-673.099 last=-857.563,-673.099 Δ 857.563,673.099) : no target window\n",
      "WARNING: delivering touch release to same window QWindow(0x0) not QWidgetWindow(0x2c0f169e0, name=\"_QtMainWindowClassWindow\")\n",
      "WARNING:vispy:delivering touch release to same window QWindow(0x0) not QWidgetWindow(0x2c0f169e0, name=\"_QtMainWindowClassWindow\")\n",
      "WARNING: skipping QEventPoint(id=1 ts=0 pos=0,0 scn=855.966,644.606 gbl=855.966,644.606 Released ellipse=(1x1 ∡ 0) vel=0,0 press=-855.966,-644.606 last=-855.966,-644.606 Δ 855.966,644.606) : no target window\n",
      "WARNING:vispy:skipping QEventPoint(id=1 ts=0 pos=0,0 scn=855.966,644.606 gbl=855.966,644.606 Released ellipse=(1x1 ∡ 0) vel=0,0 press=-855.966,-644.606 last=-855.966,-644.606 Δ 855.966,644.606) : no target window\n",
      "WARNING: delivering touch release to same window QWindow(0x0) not QWidgetWindow(0x2c0f169e0, name=\"_QtMainWindowClassWindow\")\n",
      "WARNING:vispy:delivering touch release to same window QWindow(0x0) not QWidgetWindow(0x2c0f169e0, name=\"_QtMainWindowClassWindow\")\n",
      "WARNING: skipping QEventPoint(id=1 ts=0 pos=0,0 scn=744.467,639.086 gbl=744.467,639.086 Released ellipse=(1x1 ∡ 0) vel=0,0 press=-744.467,-639.086 last=-744.467,-639.086 Δ 744.467,639.086) : no target window\n",
      "WARNING:vispy:skipping QEventPoint(id=1 ts=0 pos=0,0 scn=744.467,639.086 gbl=744.467,639.086 Released ellipse=(1x1 ∡ 0) vel=0,0 press=-744.467,-639.086 last=-744.467,-639.086 Δ 744.467,639.086) : no target window\n",
      "WARNING: delivering touch release to same window QWindow(0x0) not QWidgetWindow(0x2c0f169e0, name=\"_QtMainWindowClassWindow\")\n",
      "WARNING:vispy:delivering touch release to same window QWindow(0x0) not QWidgetWindow(0x2c0f169e0, name=\"_QtMainWindowClassWindow\")\n",
      "WARNING: skipping QEventPoint(id=1 ts=0 pos=0,0 scn=319.82,143.248 gbl=319.82,143.248 Released ellipse=(1x1 ∡ 0) vel=0,0 press=-319.82,-143.248 last=-319.82,-143.248 Δ 319.82,143.248) : no target window\n",
      "WARNING:vispy:skipping QEventPoint(id=1 ts=0 pos=0,0 scn=319.82,143.248 gbl=319.82,143.248 Released ellipse=(1x1 ∡ 0) vel=0,0 press=-319.82,-143.248 last=-319.82,-143.248 Δ 319.82,143.248) : no target window\n",
      "WARNING: delivering touch release to same window QWindow(0x0) not QWidgetWindow(0x2c0f169e0, name=\"_QtMainWindowClassWindow\")\n",
      "WARNING:vispy:delivering touch release to same window QWindow(0x0) not QWidgetWindow(0x2c0f169e0, name=\"_QtMainWindowClassWindow\")\n",
      "WARNING: skipping QEventPoint(id=1 ts=0 pos=0,0 scn=543.351,293.184 gbl=543.351,293.184 Released ellipse=(1x1 ∡ 0) vel=0,0 press=-543.351,-293.184 last=-543.351,-293.184 Δ 543.351,293.184) : no target window\n",
      "WARNING:vispy:skipping QEventPoint(id=1 ts=0 pos=0,0 scn=543.351,293.184 gbl=543.351,293.184 Released ellipse=(1x1 ∡ 0) vel=0,0 press=-543.351,-293.184 last=-543.351,-293.184 Δ 543.351,293.184) : no target window\n"
     ]
    }
   ],
   "source": [
    "deeplabcut.label_frames(config_path)"
   ]
  },
  {
   "cell_type": "markdown",
   "id": "7520853e",
   "metadata": {},
   "source": [
    "You now want to label each frame with the location of the body parts you specified previously. In the DeepLabCut GUI, go through each frame and mark where each of the body parts are located. \n",
    "\n",
    "<img src=\"deeplapcut_gui_guide.png\">"
   ]
  },
  {
   "cell_type": "markdown",
   "id": "e8a11e73",
   "metadata": {},
   "source": [
    "When you are done, press Cmd+s (Mac), Ctrl+S (Windows/Linux), or File > Save Selected Layer(s) to save your changes."
   ]
  },
  {
   "cell_type": "code",
   "execution_count": 12,
   "id": "25becf2e",
   "metadata": {},
   "outputs": [
    {
     "name": "stdout",
     "output_type": "stream",
     "text": [
      "The training dataset is successfully created. Use the function 'train_network' to start training. Happy training!\n"
     ]
    },
    {
     "data": {
      "text/plain": [
       "[(0.95,\n",
       "  1,\n",
       "  (array([ 8,  7,  6, 12, 13,  2, 19,  0, 10,  5, 15, 14, 17, 11,  1,  9, 16,\n",
       "           3,  4]),\n",
       "   array([18])))]"
      ]
     },
     "execution_count": 12,
     "metadata": {},
     "output_type": "execute_result"
    }
   ],
   "source": [
    "deeplabcut.create_training_dataset(config_path)"
   ]
  },
  {
   "cell_type": "markdown",
   "id": "d734667e",
   "metadata": {},
   "source": [
    "The next block of code will start training the model; the computer will begin to iterate over the training set data we created.\n",
    "<ul>\n",
    "    <li>It is suggested to get to iteration 75000</li>\n",
    "    <li>Save, max and display are optional, if they are not specified, defaults will be chosen</li>\n",
    "    <li>You may stop this code block whenever, or set the 'maxiters' variable to the desired iteration line</li>\n",
    "</ul>\n",
    "\n",
    "This step will take quite a while. In addition, models trained with the above steps are unlikely to be useful due to a small number of training frames and single example video from which the training frames are taken.  In the interest of time, we have provided a better model trained using 3 of the 4 videos and 200 labelled frames.  This was trained overnight for 750k iterations. \n",
    "We will proceed with the rest of this workshop with this better trained model. After verifying the next block of code starts as expected, please stop the process and open the other jupyter notebook titled 'dlc-tutorial_part-2.ipynb' to continue."
   ]
  },
  {
   "cell_type": "code",
   "execution_count": 13,
   "id": "90395dcb",
   "metadata": {},
   "outputs": [
    {
     "name": "stderr",
     "output_type": "stream",
     "text": [
      "Config:\n",
      "{'all_joints': [[0], [1]],\n",
      " 'all_joints_names': ['head', 'tail'],\n",
      " 'alpha_r': 0.02,\n",
      " 'apply_prob': 0.5,\n",
      " 'batch_size': 1,\n",
      " 'contrast': {'clahe': True,\n",
      "              'claheratio': 0.1,\n",
      "              'histeq': True,\n",
      "              'histeqratio': 0.1},\n",
      " 'convolution': {'edge': False,\n",
      "                 'emboss': {'alpha': [0.0, 1.0], 'strength': [0.5, 1.5]},\n",
      "                 'embossratio': 0.1,\n",
      "                 'sharpen': False,\n",
      "                 'sharpenratio': 0.3},\n",
      " 'crop_pad': 0,\n",
      " 'cropratio': 0.4,\n",
      " 'dataset': 'training-datasets/iteration-0/UnaugmentedDataSet_deeplabcut_testApr11/deeplabcut_test_my_name95shuffle1.mat',\n",
      " 'dataset_type': 'default',\n",
      " 'decay_steps': 30000,\n",
      " 'deterministic': False,\n",
      " 'display_iters': 1000,\n",
      " 'fg_fraction': 0.25,\n",
      " 'global_scale': 0.8,\n",
      " 'init_weights': '/Users/hannahcha/miniconda/envs/DEEPLABCUT_M1/lib/python3.9/site-packages/deeplabcut/pose_estimation_tensorflow/models/pretrained/resnet_v1_50.ckpt',\n",
      " 'intermediate_supervision': False,\n",
      " 'intermediate_supervision_layer': 12,\n",
      " 'location_refinement': True,\n",
      " 'locref_huber_loss': True,\n",
      " 'locref_loss_weight': 0.05,\n",
      " 'locref_stdev': 7.2801,\n",
      " 'log_dir': 'log',\n",
      " 'lr_init': 0.0005,\n",
      " 'max_input_size': 1500,\n",
      " 'mean_pixel': [123.68, 116.779, 103.939],\n",
      " 'metadataset': 'training-datasets/iteration-0/UnaugmentedDataSet_deeplabcut_testApr11/Documentation_data-deeplabcut_test_95shuffle1.pickle',\n",
      " 'min_input_size': 64,\n",
      " 'mirror': False,\n",
      " 'multi_stage': False,\n",
      " 'multi_step': [[0.005, 10000],\n",
      "                [0.02, 430000],\n",
      "                [0.002, 730000],\n",
      "                [0.001, 1030000]],\n",
      " 'net_type': 'resnet_50',\n",
      " 'num_joints': 2,\n",
      " 'optimizer': 'sgd',\n",
      " 'pairwise_huber_loss': False,\n",
      " 'pairwise_predict': False,\n",
      " 'partaffinityfield_predict': False,\n",
      " 'pos_dist_thresh': 17,\n",
      " 'project_path': '/Users/hannahcha/IdeaProjects/dlc_demo/my_files/working_dir/deeplabcut_test-my_name-2024-04-11',\n",
      " 'regularize': False,\n",
      " 'rotation': 25,\n",
      " 'rotratio': 0.4,\n",
      " 'save_iters': 50000,\n",
      " 'scale_jitter_lo': 0.5,\n",
      " 'scale_jitter_up': 1.25,\n",
      " 'scoremap_dir': 'test',\n",
      " 'shuffle': True,\n",
      " 'snapshot_prefix': '/Users/hannahcha/IdeaProjects/dlc_demo/my_files/working_dir/deeplabcut_test-my_name-2024-04-11/dlc-models/iteration-0/deeplabcut_testApr11-trainset95shuffle1/train/snapshot',\n",
      " 'stride': 8.0,\n",
      " 'weigh_negatives': False,\n",
      " 'weigh_only_present_joints': False,\n",
      " 'weigh_part_predictions': False,\n",
      " 'weight_decay': 0.0001}\n"
     ]
    },
    {
     "name": "stdout",
     "output_type": "stream",
     "text": [
      "Selecting single-animal trainer\n",
      "Batch Size is 1\n"
     ]
    },
    {
     "name": "stderr",
     "output_type": "stream",
     "text": [
      "/Users/hannahcha/miniconda/envs/DEEPLABCUT_M1/lib/python3.9/site-packages/tensorflow/python/keras/engine/base_layer_v1.py:1694: UserWarning: `layer.apply` is deprecated and will be removed in a future version. Please use `layer.__call__` method instead.\n",
      "  warnings.warn('`layer.apply` is deprecated and '\n"
     ]
    },
    {
     "name": "stdout",
     "output_type": "stream",
     "text": [
      "Loading ImageNet-pretrained resnet_50\n"
     ]
    },
    {
     "name": "stderr",
     "output_type": "stream",
     "text": [
      "/Users/hannahcha/miniconda/envs/DEEPLABCUT_M1/lib/python3.9/site-packages/deeplabcut/pose_estimation_tensorflow/core/train.py:228: UserWarning: Switching to Adam, as SGD crashes on Apple Silicon.\n",
      "  warnings.warn(\"Switching to Adam, as SGD crashes on Apple Silicon.\")\n",
      "2024-04-11 10:45:27.091859: W tensorflow/tsl/platform/profile_utils/cpu_utils.cc:128] Failed to get CPU frequency: 0 Hz\n",
      "2024-04-11 10:45:27.840120: W tensorflow/c/c_api.cc:300] Operation '{name:'pose/locref_pred/block4/biases/Adam_1/Assign' id:7170 op device:{requested: '', assigned: ''} def:{{{node pose/locref_pred/block4/biases/Adam_1/Assign}} = AssignVariableOp[_has_manual_control_dependencies=true, dtype=DT_FLOAT, validate_shape=false](pose/locref_pred/block4/biases/Adam_1, pose/locref_pred/block4/biases/Adam_1/Initializer/zeros)}}' was changed by setting attribute after it was run by a session. This mutation will have no effect, and will trigger an error in the future. Either don't modify nodes after running them or create a new session.\n"
     ]
    },
    {
     "name": "stdout",
     "output_type": "stream",
     "text": [
      "Max_iters overwritten as 10000\n",
      "Display_iters overwritten as 100\n",
      "Save_iters overwritten as 2500\n",
      "Training parameter:\n",
      "{'stride': 8.0, 'weigh_part_predictions': False, 'weigh_negatives': False, 'fg_fraction': 0.25, 'mean_pixel': [123.68, 116.779, 103.939], 'shuffle': True, 'snapshot_prefix': '/Users/hannahcha/IdeaProjects/dlc_demo/my_files/working_dir/deeplabcut_test-my_name-2024-04-11/dlc-models/iteration-0/deeplabcut_testApr11-trainset95shuffle1/train/snapshot', 'log_dir': 'log', 'global_scale': 0.8, 'location_refinement': True, 'locref_stdev': 7.2801, 'locref_loss_weight': 0.05, 'locref_huber_loss': True, 'optimizer': 'adam', 'intermediate_supervision': False, 'intermediate_supervision_layer': 12, 'regularize': False, 'weight_decay': 0.0001, 'crop_pad': 0, 'scoremap_dir': 'test', 'batch_size': 1, 'dataset_type': 'default', 'deterministic': False, 'mirror': False, 'pairwise_huber_loss': False, 'weigh_only_present_joints': False, 'partaffinityfield_predict': False, 'pairwise_predict': False, 'all_joints': [[0], [1]], 'all_joints_names': ['head', 'tail'], 'alpha_r': 0.02, 'apply_prob': 0.5, 'contrast': {'clahe': True, 'claheratio': 0.1, 'histeq': True, 'histeqratio': 0.1, 'gamma': False, 'sigmoid': False, 'log': False, 'linear': False}, 'convolution': {'edge': False, 'emboss': {'alpha': [0.0, 1.0], 'strength': [0.5, 1.5]}, 'embossratio': 0.1, 'sharpen': False, 'sharpenratio': 0.3}, 'cropratio': 0.4, 'dataset': 'training-datasets/iteration-0/UnaugmentedDataSet_deeplabcut_testApr11/deeplabcut_test_my_name95shuffle1.mat', 'decay_steps': 30000, 'display_iters': 1000, 'init_weights': '/Users/hannahcha/miniconda/envs/DEEPLABCUT_M1/lib/python3.9/site-packages/deeplabcut/pose_estimation_tensorflow/models/pretrained/resnet_v1_50.ckpt', 'lr_init': 0.0005, 'max_input_size': 1500, 'metadataset': 'training-datasets/iteration-0/UnaugmentedDataSet_deeplabcut_testApr11/Documentation_data-deeplabcut_test_95shuffle1.pickle', 'min_input_size': 64, 'multi_stage': False, 'multi_step': [[0.0001, 7500], [5e-05, 12000], [1e-05, 200000]], 'net_type': 'resnet_50', 'num_joints': 2, 'pos_dist_thresh': 17, 'project_path': '/Users/hannahcha/IdeaProjects/dlc_demo/my_files/working_dir/deeplabcut_test-my_name-2024-04-11', 'rotation': 25, 'rotratio': 0.4, 'save_iters': 50000, 'scale_jitter_lo': 0.5, 'scale_jitter_up': 1.25, 'covering': True, 'elastic_transform': True, 'motion_blur': True, 'motion_blur_params': {'k': 7, 'angle': (-90, 90)}}\n",
      "Starting training....\n"
     ]
    },
    {
     "ename": "KeyboardInterrupt",
     "evalue": "",
     "output_type": "error",
     "traceback": [
      "\u001b[0;31m---------------------------------------------------------------------------\u001b[0m",
      "\u001b[0;31mKeyboardInterrupt\u001b[0m                         Traceback (most recent call last)",
      "Cell \u001b[0;32mIn[13], line 1\u001b[0m\n\u001b[0;32m----> 1\u001b[0m \u001b[43mdeeplabcut\u001b[49m\u001b[38;5;241;43m.\u001b[39;49m\u001b[43mtrain_network\u001b[49m\u001b[43m(\u001b[49m\u001b[43mconfig_path\u001b[49m\u001b[43m,\u001b[49m\u001b[43m \u001b[49m\u001b[43msaveiters\u001b[49m\u001b[43m \u001b[49m\u001b[38;5;241;43m=\u001b[39;49m\u001b[43m \u001b[49m\u001b[38;5;241;43m2500\u001b[39;49m\u001b[43m,\u001b[49m\u001b[43m \u001b[49m\u001b[43mmaxiters\u001b[49m\u001b[43m \u001b[49m\u001b[38;5;241;43m=\u001b[39;49m\u001b[43m \u001b[49m\u001b[38;5;241;43m10000\u001b[39;49m\u001b[43m,\u001b[49m\u001b[43m \u001b[49m\u001b[43mdisplayiters\u001b[49m\u001b[43m \u001b[49m\u001b[38;5;241;43m=\u001b[39;49m\u001b[43m \u001b[49m\u001b[38;5;241;43m100\u001b[39;49m\u001b[43m)\u001b[49m\n",
      "File \u001b[0;32m~/miniconda/envs/DEEPLABCUT_M1/lib/python3.9/site-packages/deeplabcut/pose_estimation_tensorflow/training.py:284\u001b[0m, in \u001b[0;36mtrain_network\u001b[0;34m(config, shuffle, trainingsetindex, max_snapshots_to_keep, displayiters, saveiters, maxiters, allow_growth, gputouse, autotune, keepdeconvweights, modelprefix, superanimal_name, superanimal_transfer_learning)\u001b[0m\n\u001b[1;32m    273\u001b[0m         train(\n\u001b[1;32m    274\u001b[0m             \u001b[38;5;28mstr\u001b[39m(poseconfigfile),\n\u001b[1;32m    275\u001b[0m             displayiters,\n\u001b[0;32m   (...)\u001b[0m\n\u001b[1;32m    280\u001b[0m             allow_growth\u001b[38;5;241m=\u001b[39mallow_growth,\n\u001b[1;32m    281\u001b[0m         )  \u001b[38;5;66;03m# pass on path and file name for pose_cfg.yaml!\u001b[39;00m\n\u001b[1;32m    283\u001b[0m \u001b[38;5;28;01mexcept\u001b[39;00m \u001b[38;5;167;01mBaseException\u001b[39;00m \u001b[38;5;28;01mas\u001b[39;00m e:\n\u001b[0;32m--> 284\u001b[0m     \u001b[38;5;28;01mraise\u001b[39;00m e\n\u001b[1;32m    285\u001b[0m \u001b[38;5;28;01mfinally\u001b[39;00m:\n\u001b[1;32m    286\u001b[0m     os\u001b[38;5;241m.\u001b[39mchdir(\u001b[38;5;28mstr\u001b[39m(start_path))\n",
      "File \u001b[0;32m~/miniconda/envs/DEEPLABCUT_M1/lib/python3.9/site-packages/deeplabcut/pose_estimation_tensorflow/training.py:273\u001b[0m, in \u001b[0;36mtrain_network\u001b[0;34m(config, shuffle, trainingsetindex, max_snapshots_to_keep, displayiters, saveiters, maxiters, allow_growth, gputouse, autotune, keepdeconvweights, modelprefix, superanimal_name, superanimal_transfer_learning)\u001b[0m\n\u001b[1;32m    270\u001b[0m         \u001b[38;5;28;01mfrom\u001b[39;00m \u001b[38;5;21;01mdeeplabcut\u001b[39;00m\u001b[38;5;21;01m.\u001b[39;00m\u001b[38;5;21;01mpose_estimation_tensorflow\u001b[39;00m\u001b[38;5;21;01m.\u001b[39;00m\u001b[38;5;21;01mcore\u001b[39;00m\u001b[38;5;21;01m.\u001b[39;00m\u001b[38;5;21;01mtrain\u001b[39;00m \u001b[38;5;28;01mimport\u001b[39;00m train\n\u001b[1;32m    272\u001b[0m         \u001b[38;5;28mprint\u001b[39m(\u001b[38;5;124m\"\u001b[39m\u001b[38;5;124mSelecting single-animal trainer\u001b[39m\u001b[38;5;124m\"\u001b[39m)\n\u001b[0;32m--> 273\u001b[0m         \u001b[43mtrain\u001b[49m\u001b[43m(\u001b[49m\n\u001b[1;32m    274\u001b[0m \u001b[43m            \u001b[49m\u001b[38;5;28;43mstr\u001b[39;49m\u001b[43m(\u001b[49m\u001b[43mposeconfigfile\u001b[49m\u001b[43m)\u001b[49m\u001b[43m,\u001b[49m\n\u001b[1;32m    275\u001b[0m \u001b[43m            \u001b[49m\u001b[43mdisplayiters\u001b[49m\u001b[43m,\u001b[49m\n\u001b[1;32m    276\u001b[0m \u001b[43m            \u001b[49m\u001b[43msaveiters\u001b[49m\u001b[43m,\u001b[49m\n\u001b[1;32m    277\u001b[0m \u001b[43m            \u001b[49m\u001b[43mmaxiters\u001b[49m\u001b[43m,\u001b[49m\n\u001b[1;32m    278\u001b[0m \u001b[43m            \u001b[49m\u001b[43mmax_to_keep\u001b[49m\u001b[38;5;241;43m=\u001b[39;49m\u001b[43mmax_snapshots_to_keep\u001b[49m\u001b[43m,\u001b[49m\n\u001b[1;32m    279\u001b[0m \u001b[43m            \u001b[49m\u001b[43mkeepdeconvweights\u001b[49m\u001b[38;5;241;43m=\u001b[39;49m\u001b[43mkeepdeconvweights\u001b[49m\u001b[43m,\u001b[49m\n\u001b[1;32m    280\u001b[0m \u001b[43m            \u001b[49m\u001b[43mallow_growth\u001b[49m\u001b[38;5;241;43m=\u001b[39;49m\u001b[43mallow_growth\u001b[49m\u001b[43m,\u001b[49m\n\u001b[1;32m    281\u001b[0m \u001b[43m        \u001b[49m\u001b[43m)\u001b[49m  \u001b[38;5;66;03m# pass on path and file name for pose_cfg.yaml!\u001b[39;00m\n\u001b[1;32m    283\u001b[0m \u001b[38;5;28;01mexcept\u001b[39;00m \u001b[38;5;167;01mBaseException\u001b[39;00m \u001b[38;5;28;01mas\u001b[39;00m e:\n\u001b[1;32m    284\u001b[0m     \u001b[38;5;28;01mraise\u001b[39;00m e\n",
      "File \u001b[0;32m~/miniconda/envs/DEEPLABCUT_M1/lib/python3.9/site-packages/deeplabcut/pose_estimation_tensorflow/core/train.py:287\u001b[0m, in \u001b[0;36mtrain\u001b[0;34m(config_yaml, displayiters, saveiters, maxiters, max_to_keep, keepdeconvweights, allow_growth)\u001b[0m\n\u001b[1;32m    284\u001b[0m     current_lr \u001b[38;5;241m=\u001b[39m lr_gen\u001b[38;5;241m.\u001b[39mget_lr(it \u001b[38;5;241m-\u001b[39m start_iter)\n\u001b[1;32m    285\u001b[0m     lr_dict \u001b[38;5;241m=\u001b[39m {learning_rate: current_lr}\n\u001b[0;32m--> 287\u001b[0m [_, loss_val, summary] \u001b[38;5;241m=\u001b[39m \u001b[43msess\u001b[49m\u001b[38;5;241;43m.\u001b[39;49m\u001b[43mrun\u001b[49m\u001b[43m(\u001b[49m\n\u001b[1;32m    288\u001b[0m \u001b[43m    \u001b[49m\u001b[43m[\u001b[49m\u001b[43mtrain_op\u001b[49m\u001b[43m,\u001b[49m\u001b[43m \u001b[49m\u001b[43mtotal_loss\u001b[49m\u001b[43m,\u001b[49m\u001b[43m \u001b[49m\u001b[43mmerged_summaries\u001b[49m\u001b[43m]\u001b[49m\u001b[43m,\u001b[49m\u001b[43m \u001b[49m\u001b[43mfeed_dict\u001b[49m\u001b[38;5;241;43m=\u001b[39;49m\u001b[43mlr_dict\u001b[49m\n\u001b[1;32m    289\u001b[0m \u001b[43m\u001b[49m\u001b[43m)\u001b[49m\n\u001b[1;32m    290\u001b[0m cum_loss \u001b[38;5;241m+\u001b[39m\u001b[38;5;241m=\u001b[39m loss_val\n\u001b[1;32m    291\u001b[0m train_writer\u001b[38;5;241m.\u001b[39madd_summary(summary, it)\n",
      "File \u001b[0;32m~/miniconda/envs/DEEPLABCUT_M1/lib/python3.9/site-packages/tensorflow/python/client/session.py:968\u001b[0m, in \u001b[0;36mBaseSession.run\u001b[0;34m(self, fetches, feed_dict, options, run_metadata)\u001b[0m\n\u001b[1;32m    965\u001b[0m run_metadata_ptr \u001b[38;5;241m=\u001b[39m tf_session\u001b[38;5;241m.\u001b[39mTF_NewBuffer() \u001b[38;5;28;01mif\u001b[39;00m run_metadata \u001b[38;5;28;01melse\u001b[39;00m \u001b[38;5;28;01mNone\u001b[39;00m\n\u001b[1;32m    967\u001b[0m \u001b[38;5;28;01mtry\u001b[39;00m:\n\u001b[0;32m--> 968\u001b[0m   result \u001b[38;5;241m=\u001b[39m \u001b[38;5;28;43mself\u001b[39;49m\u001b[38;5;241;43m.\u001b[39;49m\u001b[43m_run\u001b[49m\u001b[43m(\u001b[49m\u001b[38;5;28;43;01mNone\u001b[39;49;00m\u001b[43m,\u001b[49m\u001b[43m \u001b[49m\u001b[43mfetches\u001b[49m\u001b[43m,\u001b[49m\u001b[43m \u001b[49m\u001b[43mfeed_dict\u001b[49m\u001b[43m,\u001b[49m\u001b[43m \u001b[49m\u001b[43moptions_ptr\u001b[49m\u001b[43m,\u001b[49m\n\u001b[1;32m    969\u001b[0m \u001b[43m                     \u001b[49m\u001b[43mrun_metadata_ptr\u001b[49m\u001b[43m)\u001b[49m\n\u001b[1;32m    970\u001b[0m   \u001b[38;5;28;01mif\u001b[39;00m run_metadata:\n\u001b[1;32m    971\u001b[0m     proto_data \u001b[38;5;241m=\u001b[39m tf_session\u001b[38;5;241m.\u001b[39mTF_GetBuffer(run_metadata_ptr)\n",
      "File \u001b[0;32m~/miniconda/envs/DEEPLABCUT_M1/lib/python3.9/site-packages/tensorflow/python/client/session.py:1191\u001b[0m, in \u001b[0;36mBaseSession._run\u001b[0;34m(self, handle, fetches, feed_dict, options, run_metadata)\u001b[0m\n\u001b[1;32m   1188\u001b[0m \u001b[38;5;66;03m# We only want to really perform the run if fetches or targets are provided,\u001b[39;00m\n\u001b[1;32m   1189\u001b[0m \u001b[38;5;66;03m# or if the call is a partial run that specifies feeds.\u001b[39;00m\n\u001b[1;32m   1190\u001b[0m \u001b[38;5;28;01mif\u001b[39;00m final_fetches \u001b[38;5;129;01mor\u001b[39;00m final_targets \u001b[38;5;129;01mor\u001b[39;00m (handle \u001b[38;5;129;01mand\u001b[39;00m feed_dict_tensor):\n\u001b[0;32m-> 1191\u001b[0m   results \u001b[38;5;241m=\u001b[39m \u001b[38;5;28;43mself\u001b[39;49m\u001b[38;5;241;43m.\u001b[39;49m\u001b[43m_do_run\u001b[49m\u001b[43m(\u001b[49m\u001b[43mhandle\u001b[49m\u001b[43m,\u001b[49m\u001b[43m \u001b[49m\u001b[43mfinal_targets\u001b[49m\u001b[43m,\u001b[49m\u001b[43m \u001b[49m\u001b[43mfinal_fetches\u001b[49m\u001b[43m,\u001b[49m\n\u001b[1;32m   1192\u001b[0m \u001b[43m                         \u001b[49m\u001b[43mfeed_dict_tensor\u001b[49m\u001b[43m,\u001b[49m\u001b[43m \u001b[49m\u001b[43moptions\u001b[49m\u001b[43m,\u001b[49m\u001b[43m \u001b[49m\u001b[43mrun_metadata\u001b[49m\u001b[43m)\u001b[49m\n\u001b[1;32m   1193\u001b[0m \u001b[38;5;28;01melse\u001b[39;00m:\n\u001b[1;32m   1194\u001b[0m   results \u001b[38;5;241m=\u001b[39m []\n",
      "File \u001b[0;32m~/miniconda/envs/DEEPLABCUT_M1/lib/python3.9/site-packages/tensorflow/python/client/session.py:1371\u001b[0m, in \u001b[0;36mBaseSession._do_run\u001b[0;34m(self, handle, target_list, fetch_list, feed_dict, options, run_metadata)\u001b[0m\n\u001b[1;32m   1368\u001b[0m   \u001b[38;5;28;01mreturn\u001b[39;00m \u001b[38;5;28mself\u001b[39m\u001b[38;5;241m.\u001b[39m_call_tf_sessionprun(handle, feed_dict, fetch_list)\n\u001b[1;32m   1370\u001b[0m \u001b[38;5;28;01mif\u001b[39;00m handle \u001b[38;5;129;01mis\u001b[39;00m \u001b[38;5;28;01mNone\u001b[39;00m:\n\u001b[0;32m-> 1371\u001b[0m   \u001b[38;5;28;01mreturn\u001b[39;00m \u001b[38;5;28;43mself\u001b[39;49m\u001b[38;5;241;43m.\u001b[39;49m\u001b[43m_do_call\u001b[49m\u001b[43m(\u001b[49m\u001b[43m_run_fn\u001b[49m\u001b[43m,\u001b[49m\u001b[43m \u001b[49m\u001b[43mfeeds\u001b[49m\u001b[43m,\u001b[49m\u001b[43m \u001b[49m\u001b[43mfetches\u001b[49m\u001b[43m,\u001b[49m\u001b[43m \u001b[49m\u001b[43mtargets\u001b[49m\u001b[43m,\u001b[49m\u001b[43m \u001b[49m\u001b[43moptions\u001b[49m\u001b[43m,\u001b[49m\n\u001b[1;32m   1372\u001b[0m \u001b[43m                       \u001b[49m\u001b[43mrun_metadata\u001b[49m\u001b[43m)\u001b[49m\n\u001b[1;32m   1373\u001b[0m \u001b[38;5;28;01melse\u001b[39;00m:\n\u001b[1;32m   1374\u001b[0m   \u001b[38;5;28;01mreturn\u001b[39;00m \u001b[38;5;28mself\u001b[39m\u001b[38;5;241m.\u001b[39m_do_call(_prun_fn, handle, feeds, fetches)\n",
      "File \u001b[0;32m~/miniconda/envs/DEEPLABCUT_M1/lib/python3.9/site-packages/tensorflow/python/client/session.py:1378\u001b[0m, in \u001b[0;36mBaseSession._do_call\u001b[0;34m(self, fn, *args)\u001b[0m\n\u001b[1;32m   1376\u001b[0m \u001b[38;5;28;01mdef\u001b[39;00m \u001b[38;5;21m_do_call\u001b[39m(\u001b[38;5;28mself\u001b[39m, fn, \u001b[38;5;241m*\u001b[39margs):\n\u001b[1;32m   1377\u001b[0m   \u001b[38;5;28;01mtry\u001b[39;00m:\n\u001b[0;32m-> 1378\u001b[0m     \u001b[38;5;28;01mreturn\u001b[39;00m \u001b[43mfn\u001b[49m\u001b[43m(\u001b[49m\u001b[38;5;241;43m*\u001b[39;49m\u001b[43margs\u001b[49m\u001b[43m)\u001b[49m\n\u001b[1;32m   1379\u001b[0m   \u001b[38;5;28;01mexcept\u001b[39;00m errors\u001b[38;5;241m.\u001b[39mOpError \u001b[38;5;28;01mas\u001b[39;00m e:\n\u001b[1;32m   1380\u001b[0m     message \u001b[38;5;241m=\u001b[39m compat\u001b[38;5;241m.\u001b[39mas_text(e\u001b[38;5;241m.\u001b[39mmessage)\n",
      "File \u001b[0;32m~/miniconda/envs/DEEPLABCUT_M1/lib/python3.9/site-packages/tensorflow/python/client/session.py:1361\u001b[0m, in \u001b[0;36mBaseSession._do_run.<locals>._run_fn\u001b[0;34m(feed_dict, fetch_list, target_list, options, run_metadata)\u001b[0m\n\u001b[1;32m   1358\u001b[0m \u001b[38;5;28;01mdef\u001b[39;00m \u001b[38;5;21m_run_fn\u001b[39m(feed_dict, fetch_list, target_list, options, run_metadata):\n\u001b[1;32m   1359\u001b[0m   \u001b[38;5;66;03m# Ensure any changes to the graph are reflected in the runtime.\u001b[39;00m\n\u001b[1;32m   1360\u001b[0m   \u001b[38;5;28mself\u001b[39m\u001b[38;5;241m.\u001b[39m_extend_graph()\n\u001b[0;32m-> 1361\u001b[0m   \u001b[38;5;28;01mreturn\u001b[39;00m \u001b[38;5;28;43mself\u001b[39;49m\u001b[38;5;241;43m.\u001b[39;49m\u001b[43m_call_tf_sessionrun\u001b[49m\u001b[43m(\u001b[49m\u001b[43moptions\u001b[49m\u001b[43m,\u001b[49m\u001b[43m \u001b[49m\u001b[43mfeed_dict\u001b[49m\u001b[43m,\u001b[49m\u001b[43m \u001b[49m\u001b[43mfetch_list\u001b[49m\u001b[43m,\u001b[49m\n\u001b[1;32m   1362\u001b[0m \u001b[43m                                  \u001b[49m\u001b[43mtarget_list\u001b[49m\u001b[43m,\u001b[49m\u001b[43m \u001b[49m\u001b[43mrun_metadata\u001b[49m\u001b[43m)\u001b[49m\n",
      "File \u001b[0;32m~/miniconda/envs/DEEPLABCUT_M1/lib/python3.9/site-packages/tensorflow/python/client/session.py:1454\u001b[0m, in \u001b[0;36mBaseSession._call_tf_sessionrun\u001b[0;34m(self, options, feed_dict, fetch_list, target_list, run_metadata)\u001b[0m\n\u001b[1;32m   1452\u001b[0m \u001b[38;5;28;01mdef\u001b[39;00m \u001b[38;5;21m_call_tf_sessionrun\u001b[39m(\u001b[38;5;28mself\u001b[39m, options, feed_dict, fetch_list, target_list,\n\u001b[1;32m   1453\u001b[0m                         run_metadata):\n\u001b[0;32m-> 1454\u001b[0m   \u001b[38;5;28;01mreturn\u001b[39;00m \u001b[43mtf_session\u001b[49m\u001b[38;5;241;43m.\u001b[39;49m\u001b[43mTF_SessionRun_wrapper\u001b[49m\u001b[43m(\u001b[49m\u001b[38;5;28;43mself\u001b[39;49m\u001b[38;5;241;43m.\u001b[39;49m\u001b[43m_session\u001b[49m\u001b[43m,\u001b[49m\u001b[43m \u001b[49m\u001b[43moptions\u001b[49m\u001b[43m,\u001b[49m\u001b[43m \u001b[49m\u001b[43mfeed_dict\u001b[49m\u001b[43m,\u001b[49m\n\u001b[1;32m   1455\u001b[0m \u001b[43m                                          \u001b[49m\u001b[43mfetch_list\u001b[49m\u001b[43m,\u001b[49m\u001b[43m \u001b[49m\u001b[43mtarget_list\u001b[49m\u001b[43m,\u001b[49m\n\u001b[1;32m   1456\u001b[0m \u001b[43m                                          \u001b[49m\u001b[43mrun_metadata\u001b[49m\u001b[43m)\u001b[49m\n",
      "\u001b[0;31mKeyboardInterrupt\u001b[0m: "
     ]
    }
   ],
   "source": [
    "deeplabcut.train_network(config_path, saveiters = 2500, maxiters = 10000, displayiters = 100)"
   ]
  },
  {
   "cell_type": "markdown",
   "id": "80d43ddb",
   "metadata": {},
   "source": []
  }
 ],
 "metadata": {
  "kernelspec": {
   "display_name": "Python 3 (ipykernel)",
   "language": "python",
   "name": "python3"
  },
  "language_info": {
   "codemirror_mode": {
    "name": "ipython",
    "version": 3
   },
   "file_extension": ".py",
   "mimetype": "text/x-python",
   "name": "python",
   "nbconvert_exporter": "python",
   "pygments_lexer": "ipython3",
   "version": "3.9.19"
  }
 },
 "nbformat": 4,
 "nbformat_minor": 5
}
